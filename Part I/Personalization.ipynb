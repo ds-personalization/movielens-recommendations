{
 "cells": [
  {
   "cell_type": "markdown",
   "metadata": {
    "colab_type": "text",
    "id": "0nqPk4U3dvCp"
   },
   "source": [
    "## Objective\n",
    "___"
   ]
  },
  {
   "cell_type": "markdown",
   "metadata": {
    "colab_type": "text",
    "id": "HIDE9U72W0c5"
   },
   "source": [
    "\n",
    "We are placing ourselves in the position of the owners of a movie streaming platform, akin to Netflix, Hulu, Showtime and the like.\n",
    "\n",
    "We are going to **recommend movies to users this streaming platform** that have already rated at least one movie.\n",
    "\n",
    "Our full dataset can be found here: [Full Movielens Dataset](https://grouplens.org/datasets/movielens/ )\n",
    "\n",
    "We wish to focus on a particular business objective : **recommend movies to users that are already watching at least a few movies on the platform**. Those users can be seen as valuable customers that are more likely to keep watching movies, especially if recommendations are relevant and, more importantly, are perceived as relevant by the user. Therefore we feel it is important to keep those users' business and enhance their experience with great recommendation to keep their interest up.\n",
    "\n",
    "To gain practical intuition for how some models work, and to develop methods to test and explore them, we will greatly **reduce the original data** (~ 27 M ratings) to  ~ 1 M ratings (10,000 users and 1,000 movies). \n",
    "\n",
    "#### Which ratings are we keeping?\n",
    "\n",
    "To obtain this new small dataset we are first going to **sample 1,000 movies** from the full dataset. The following discussion considers this new dataset with only 1,000 items.\n",
    "\n",
    "we are going to **sample users those users that have rated at least $user\\_min\\_ratings$ movies**. We will keep $user\\_min\\_ratings$ small enough so that our matrix is not too dense - with the risk of over-simplifying - but large enough so that it aligns with our formulated business problem. We expect to choose $user\\_min\\_ratings$ after exploring our data and looking at the distribution of number of ratings per user and per item.\n",
    "\n",
    "We are guaranteed to obtain users that each have at least $user\\_min\\_ratings$ ratings; a setting already **favorable to user-based collaborative filtering**.\n",
    "\n",
    "Once we have filtered out the dataset, we simply sample 10,000 users and 1,000 items from the resulting dataset at random.\n",
    "\n",
    "#### What recommendation engines do we implement? \n",
    "\n",
    "We chose to implement one model-based recommendation algorithm (**Matrix Factorization with L2 regularization**) and one neighborhood-based collaborative filtering algorithm (**user-based**), as well as a baseline algorithm (**user and item mean rating**) for comparison.\n",
    "\n",
    "#### What are we trying to optimize? What are we willing to sacrifice?\n",
    "\n",
    "We will focus on **accuracy** metrics for this preliminary project. Many secondary goals such as novelty, trust, coverage and serendipidity are important to the user experience. These metrics have important short-term and long-term impacts on the conversion rates but there are often no hard measures to provide a numerical metric to measure those so we may want to examine them in our more complex recommender system rather than in this first one.\n",
    "\n",
    "One idea is to use the MSE or **RMSE** to measure accuracy. They are common metrics used in literature to compare recommender systems offline. The RMSE is in units of ratings rather than in unites of squared ratings like the MSE - which makes it more interpretable than the MSE. The RMSE tends to disproportionately penalize large errors because of the squared term within the summation. It also aligns nicely with the evaluation of matrix factorization which essentially attempts to reduce the MSE of the ratings matrix and the generated latent factor matrices. This will be our primary accuracy metric.\n",
    "\n",
    "A more natural way to evaluate our recommendations is to use ranking-based metric. We will dive into this deeper as we test our recommendation system, and point out why we think precision is more important than recall in our case. We will use the **Kendall rank correlation coefficient** as a secondary accuracy metric to evaluate our system.\n",
    "\n",
    "We will also implement a measure of **coverage** to see how the movie catalog is exploited by the algorithms.\n",
    "\n",
    "#### How to decide which algorithm to deploy?\n",
    "\n",
    "We will compare the accuracy metrics and coverage across the three algorithms (matrix factorization, user-based collaborative filtering and baseline). We will only consider picking an algorithm amongst the two non-baseline if it performs significantly better than the baseline in terms of accuracy (RMSE and Kendall rank). \n",
    "\n",
    "If they both have much better accuracy than the baseline we will then compare them. We will look at both coverage and accuracy to choose one of them. A significantly higher accuracy of one over the other will weight heavy in the decision making process although very poor coverage compared to the other one might also be a great concern and change our decision.\n",
    "\n",
    "We do not supply hard numbers and thresholds in terms of accuracy or coverage that need to be reached as we understand that the metrics magnitude will heavily depend on the data at hand. We will prefer comparisons with the baseline to make a decision.\n"
   ]
  },
  {
   "cell_type": "markdown",
   "metadata": {},
   "source": [
    "## Table of contents\n",
    "___"
   ]
  },
  {
   "cell_type": "markdown",
   "metadata": {},
   "source": [
    "1. [Preparing the data for recommendation](#1)\n",
    "2. [Exploring the small dataset](#2)\n",
    "3. [Splitting the data into train and test sets](#3)\n",
    "4. [Cross-validation : training and tuning](#4)\n",
    "    1. [Algorithm 1 - Matrix Factorization with L2 regularization](#5)\n",
    "        1. [Implementation of the model](#6)\n",
    "        2. [Tuning the hyper-parameters](#7)\n",
    "        3. [Changing model size](#8)\n",
    "    2. [Algorithm 2 - User-based neighborhood model](#9)\n",
    "        1. [Implementation of the model](#10)\n",
    "        2. [Tuning the hyper-parameters](#11)\n",
    "        3. [Changing model size](#12)\n",
    "5. [Evaluation of the models](#13)\n",
    "6. [Final decision](#14)"
   ]
  },
  {
   "cell_type": "markdown",
   "metadata": {
    "colab_type": "text",
    "id": "Tk0vebAS8A4x"
   },
   "source": [
    "<a id='1'></a>\n",
    "### Preparing the data for recommendation\n",
    "___"
   ]
  },
  {
   "cell_type": "markdown",
   "metadata": {},
   "source": [
    "See **`Preparing the dataset.html`** for a detailed explanation of how we generated the small dataset. \n",
    "\n",
    "See **`Preparing the dataset.ipynb`** for reproduction of the code."
   ]
  },
  {
   "cell_type": "markdown",
   "metadata": {
    "colab_type": "text",
    "id": "Ot4xRrHFmnFc"
   },
   "source": [
    "<a id='2'></a>\n",
    "### Exploring the small dataset\n",
    "___"
   ]
  },
  {
   "cell_type": "markdown",
   "metadata": {},
   "source": [
    "Let us now reconduct the exploration phase on this small dataset, to see if there any notable differences with the original dataset and anticipate the behavior of the recommendation pipeline to characteristics of the data.\n",
    "\n",
    "First we load the dataset we saved under `ratings_small.csv`:"
   ]
  },
  {
   "cell_type": "code",
   "execution_count": 1,
   "metadata": {},
   "outputs": [],
   "source": [
    "import pandas as pd\n",
    "import numpy as np\n",
    "from lib import utils\n",
    "from lib import preprocessing as prepro"
   ]
  },
  {
   "cell_type": "code",
   "execution_count": 2,
   "metadata": {},
   "outputs": [
    {
     "data": {
      "text/html": [
       "<div>\n",
       "<style scoped>\n",
       "    .dataframe tbody tr th:only-of-type {\n",
       "        vertical-align: middle;\n",
       "    }\n",
       "\n",
       "    .dataframe tbody tr th {\n",
       "        vertical-align: top;\n",
       "    }\n",
       "\n",
       "    .dataframe thead th {\n",
       "        text-align: right;\n",
       "    }\n",
       "</style>\n",
       "<table border=\"1\" class=\"dataframe\">\n",
       "  <thead>\n",
       "    <tr style=\"text-align: right;\">\n",
       "      <th></th>\n",
       "      <th>user</th>\n",
       "      <th>item</th>\n",
       "      <th>rating</th>\n",
       "    </tr>\n",
       "  </thead>\n",
       "  <tbody>\n",
       "    <tr>\n",
       "      <th>0</th>\n",
       "      <td>18</td>\n",
       "      <td>6</td>\n",
       "      <td>3.0</td>\n",
       "    </tr>\n",
       "    <tr>\n",
       "      <th>1</th>\n",
       "      <td>18</td>\n",
       "      <td>21</td>\n",
       "      <td>3.0</td>\n",
       "    </tr>\n",
       "    <tr>\n",
       "      <th>2</th>\n",
       "      <td>18</td>\n",
       "      <td>161</td>\n",
       "      <td>4.0</td>\n",
       "    </tr>\n",
       "    <tr>\n",
       "      <th>3</th>\n",
       "      <td>18</td>\n",
       "      <td>216</td>\n",
       "      <td>3.0</td>\n",
       "    </tr>\n",
       "    <tr>\n",
       "      <th>4</th>\n",
       "      <td>18</td>\n",
       "      <td>230</td>\n",
       "      <td>4.0</td>\n",
       "    </tr>\n",
       "  </tbody>\n",
       "</table>\n",
       "</div>"
      ],
      "text/plain": [
       "   user  item  rating\n",
       "0    18     6     3.0\n",
       "1    18    21     3.0\n",
       "2    18   161     4.0\n",
       "3    18   216     3.0\n",
       "4    18   230     4.0"
      ]
     },
     "execution_count": 2,
     "metadata": {},
     "output_type": "execute_result"
    }
   ],
   "source": [
    "ratings = pd.read_csv('ratings_small.csv')\n",
    "ratings.head()"
   ]
  },
  {
   "cell_type": "code",
   "execution_count": 3,
   "metadata": {},
   "outputs": [
    {
     "data": {
      "text/plain": [
       "89099"
      ]
     },
     "execution_count": 3,
     "metadata": {},
     "output_type": "execute_result"
    }
   ],
   "source": [
    "total_ratings = utils.total_ratings(ratings)\n",
    "total_ratings"
   ]
  },
  {
   "cell_type": "markdown",
   "metadata": {},
   "source": [
    "We ended end with near 80,000 ratings, down from 27 M ratings - a drastic reduction."
   ]
  },
  {
   "cell_type": "code",
   "execution_count": 4,
   "metadata": {},
   "outputs": [
    {
     "data": {
      "text/plain": [
       "10000"
      ]
     },
     "execution_count": 4,
     "metadata": {},
     "output_type": "execute_result"
    }
   ],
   "source": [
    "total_users = utils.unique_users(ratings)\n",
    "total_users"
   ]
  },
  {
   "cell_type": "code",
   "execution_count": 5,
   "metadata": {},
   "outputs": [
    {
     "data": {
      "text/plain": [
       "879"
      ]
     },
     "execution_count": 5,
     "metadata": {},
     "output_type": "execute_result"
    }
   ],
   "source": [
    "total_items = utils.unique_movies(ratings)\n",
    "total_items"
   ]
  },
  {
   "cell_type": "code",
   "execution_count": 6,
   "metadata": {},
   "outputs": [
    {
     "data": {
      "text/plain": [
       "0.0879"
      ]
     },
     "execution_count": 6,
     "metadata": {},
     "output_type": "execute_result"
    }
   ],
   "source": [
    "ratio = utils.shape_matrix_index(ratings)\n",
    "ratio"
   ]
  },
  {
   "cell_type": "code",
   "execution_count": 7,
   "metadata": {},
   "outputs": [
    {
     "data": {
      "text/plain": [
       "0.9898635949943118"
      ]
     },
     "execution_count": 7,
     "metadata": {},
     "output_type": "execute_result"
    }
   ],
   "source": [
    "sparsity = utils.sparsity_index(ratings)\n",
    "sparsity"
   ]
  },
  {
   "cell_type": "markdown",
   "metadata": {},
   "source": [
    "The resulting matrix is still sparse although less than the original data."
   ]
  },
  {
   "cell_type": "markdown",
   "metadata": {},
   "source": [
    "<a id='3'></a>\n",
    "### Generating train and test sets\n",
    "___"
   ]
  },
  {
   "cell_type": "markdown",
   "metadata": {},
   "source": [
    "We are going to implement two basic recommendation algorithms:\n",
    "- user-based neighborhood model\n",
    "- non-negative matrix factorization\n",
    "\n",
    "We will use the `scikit-learn` package to wrap our algorithms.\n",
    "\n",
    "Let us first divide our data into training and testing sets. We implement an approximate `85 / 15` split - which might seem to keep too much training data; however in absolute terms, the little data we have should not lead to overfitting easily - in an effort to train on as much data as possible and still be able to evaluate the performance of our algorithms on enough data. We will use cross-validation to tune our algorithms so each part of the training set will be used as a validation set at some point.\n"
   ]
  },
  {
   "cell_type": "markdown",
   "metadata": {},
   "source": [
    "First we have to make sure that we have **at least one rating for each item and one rating for each user in the training set**. This is important to be able to recommend movies to all users (and not miss movies that are might turn out to be highly recommended for some users), though those users and items will not appear in the testing set. This means they won't contribute to the evaluation of our recommendation systems and that might be a problem if there are too many of those, as it would reduce the already small dataset on which we can evaluate our algorithms. \n",
    "\n"
   ]
  },
  {
   "cell_type": "markdown",
   "metadata": {},
   "source": [
    "First we hash the data so that we now have items and users numbered from 1 to the number of unique items / users - the original ids will be kept in columns `old_user` and `old_item` to reverse engineer when needed:"
   ]
  },
  {
   "cell_type": "code",
   "execution_count": 8,
   "metadata": {},
   "outputs": [],
   "source": [
    "hashed_ratings = utils.hash_data(ratings)"
   ]
  },
  {
   "cell_type": "markdown",
   "metadata": {},
   "source": [
    "Then we put all ratings of items that have just one rating in the training set and return a ratings matrix without them:"
   ]
  },
  {
   "cell_type": "code",
   "execution_count": 9,
   "metadata": {},
   "outputs": [],
   "source": [
    "t, reduced_ratings = prepro.separate_items_with_few_ratings(1, hashed_ratings)"
   ]
  },
  {
   "cell_type": "markdown",
   "metadata": {},
   "source": [
    "The relative size of those ratings is:"
   ]
  },
  {
   "cell_type": "code",
   "execution_count": 10,
   "metadata": {},
   "outputs": [
    {
     "data": {
      "text/plain": [
       "0.014534394325413305"
      ]
     },
     "execution_count": 10,
     "metadata": {},
     "output_type": "execute_result"
    }
   ],
   "source": [
    "t.size / total_ratings"
   ]
  },
  {
   "cell_type": "markdown",
   "metadata": {},
   "source": [
    "We have approximately 0.15 % of the data in the training set for now. This portion is small enough to not be alarmed: the portion of data that will not contribute to the evaluation of our systems is very small. \n",
    "\n",
    "Let us now generate training and testing sets from the data with those ratings removed with stratification on items:"
   ]
  },
  {
   "cell_type": "code",
   "execution_count": 11,
   "metadata": {},
   "outputs": [],
   "source": [
    "from sklearn.model_selection import train_test_split"
   ]
  },
  {
   "cell_type": "code",
   "execution_count": 12,
   "metadata": {},
   "outputs": [],
   "source": [
    "X_train, X_test,_,_ = train_test_split(reduced_ratings, \n",
    "                                       reduced_ratings['item'], \n",
    "                                       test_size = 0.15, \n",
    "                                       stratify = reduced_ratings['item'],\n",
    "                                       random_state = 596)\n"
   ]
  },
  {
   "cell_type": "markdown",
   "metadata": {},
   "source": [
    "Now we can concatenate `t` and `X_train` to obtain the full training set.\n",
    "\n",
    "Its relative size is:"
   ]
  },
  {
   "cell_type": "code",
   "execution_count": 13,
   "metadata": {},
   "outputs": [
    {
     "data": {
      "text/plain": [
       "0.8504360318297624"
      ]
     },
     "execution_count": 13,
     "metadata": {},
     "output_type": "execute_result"
    }
   ],
   "source": [
    "X_train = pd.concat([t, X_train])\n",
    "X_train.size / (X_train.size + X_test.size)"
   ]
  },
  {
   "cell_type": "markdown",
   "metadata": {},
   "source": [
    "which is close to the train/test ratio we wanted (`85/15`). Let us check that we have all items and users in the training set:"
   ]
  },
  {
   "cell_type": "code",
   "execution_count": 14,
   "metadata": {},
   "outputs": [
    {
     "data": {
      "text/plain": [
       "0"
      ]
     },
     "execution_count": 14,
     "metadata": {},
     "output_type": "execute_result"
    }
   ],
   "source": [
    "total_items - X_train['item'].unique().size"
   ]
  },
  {
   "cell_type": "markdown",
   "metadata": {},
   "source": [
    "We have all items"
   ]
  },
  {
   "cell_type": "code",
   "execution_count": 15,
   "metadata": {},
   "outputs": [
    {
     "data": {
      "text/plain": [
       "1"
      ]
     },
     "execution_count": 15,
     "metadata": {},
     "output_type": "execute_result"
    }
   ],
   "source": [
    "reduced_ratings['user'].unique().size - X_train['user'].unique().size"
   ]
  },
  {
   "cell_type": "markdown",
   "metadata": {},
   "source": [
    "We are missing one user in the train set. Let us manually fetch her:"
   ]
  },
  {
   "cell_type": "code",
   "execution_count": 16,
   "metadata": {},
   "outputs": [
    {
     "data": {
      "text/html": [
       "<div>\n",
       "<style scoped>\n",
       "    .dataframe tbody tr th:only-of-type {\n",
       "        vertical-align: middle;\n",
       "    }\n",
       "\n",
       "    .dataframe tbody tr th {\n",
       "        vertical-align: top;\n",
       "    }\n",
       "\n",
       "    .dataframe thead th {\n",
       "        text-align: right;\n",
       "    }\n",
       "</style>\n",
       "<table border=\"1\" class=\"dataframe\">\n",
       "  <thead>\n",
       "    <tr style=\"text-align: right;\">\n",
       "      <th></th>\n",
       "      <th>old_user</th>\n",
       "      <th>old_item</th>\n",
       "      <th>user</th>\n",
       "      <th>item</th>\n",
       "      <th>rating</th>\n",
       "    </tr>\n",
       "  </thead>\n",
       "  <tbody>\n",
       "    <tr>\n",
       "      <th>2212</th>\n",
       "      <td>7026</td>\n",
       "      <td>590</td>\n",
       "      <td>255</td>\n",
       "      <td>25</td>\n",
       "      <td>4.0</td>\n",
       "    </tr>\n",
       "    <tr>\n",
       "      <th>2213</th>\n",
       "      <td>7026</td>\n",
       "      <td>592</td>\n",
       "      <td>255</td>\n",
       "      <td>26</td>\n",
       "      <td>3.0</td>\n",
       "    </tr>\n",
       "    <tr>\n",
       "      <th>2211</th>\n",
       "      <td>7026</td>\n",
       "      <td>161</td>\n",
       "      <td>255</td>\n",
       "      <td>7</td>\n",
       "      <td>5.0</td>\n",
       "    </tr>\n",
       "  </tbody>\n",
       "</table>\n",
       "</div>"
      ],
      "text/plain": [
       "      old_user  old_item  user  item  rating\n",
       "2212      7026       590   255    25     4.0\n",
       "2213      7026       592   255    26     3.0\n",
       "2211      7026       161   255     7     5.0"
      ]
     },
     "execution_count": 16,
     "metadata": {},
     "output_type": "execute_result"
    }
   ],
   "source": [
    "X_test[-X_test['user'].isin(X_train['user'].unique())]"
   ]
  },
  {
   "cell_type": "markdown",
   "metadata": {},
   "source": [
    "Now, we add one of her ratings to the training set and remove it from the testing set:"
   ]
  },
  {
   "cell_type": "code",
   "execution_count": 17,
   "metadata": {},
   "outputs": [],
   "source": [
    "X_train = pd.concat([pd.DataFrame({'old_user' : [7026], 'old_item' : [590],\n",
    "                                   'user': [255], 'item' : [25], \n",
    "                                   'rating' : [4.0]}), X_train], \n",
    "                    ignore_index = True)\n",
    "X_test = X_test[-(np.logical_and(X_test['user'] == 255, X_test['item'] == 25))]"
   ]
  },
  {
   "cell_type": "markdown",
   "metadata": {},
   "source": [
    "We now have **all users and all items in the training set**.\n",
    "\n",
    "Before moving on to the algorithms, let us place the ratings in `y` pandas Series:"
   ]
  },
  {
   "cell_type": "code",
   "execution_count": 18,
   "metadata": {},
   "outputs": [],
   "source": [
    "y_train = X_train['rating']\n",
    "y_test = X_test['rating']\n",
    "X_train = X_train.drop('rating', axis = 1)\n",
    "X_test = X_test.drop('rating', axis = 1)"
   ]
  },
  {
   "cell_type": "markdown",
   "metadata": {
    "colab_type": "text",
    "id": "klwm8-iBepfK"
   },
   "source": [
    "<a id='4'></a>\n",
    "## Cross-validation : training and tuning\n",
    "___"
   ]
  },
  {
   "cell_type": "markdown",
   "metadata": {
    "colab_type": "text",
    "id": "KppbIzyIAgJo"
   },
   "source": [
    "<a id='5'></a>\n",
    "### Algorithm 1 - Matrix Factorization with L2 regularization\n",
    "___"
   ]
  },
  {
   "cell_type": "markdown",
   "metadata": {},
   "source": [
    "<a id='6'></a>\n",
    "#### Implementation of the model"
   ]
  },
  {
   "cell_type": "markdown",
   "metadata": {},
   "source": [
    "We implemented **matrix factorization with L2 regularization**. \n",
    "The code can be found in `/lib/MF.py`\n",
    "\n",
    "We wanted to keep the recommendation algorithm simple for this part of the project and adding regularization to reduce proneness to overfitting did not complicate the implementation nor is it a conceptual stretch. \n",
    "It did add an **extra parameter** to tune."
   ]
  },
  {
   "cell_type": "markdown",
   "metadata": {},
   "source": [
    "Let us first import the tools we need:\n",
    "- `skleran.base.BaseEstimator` is a scikit-learn interface that estimators need to implement so that we can use other tools supplied by the scikit-learn package\n",
    "- `sklearn.base.RegressorMixin` is an abstract class for regression estimators\n",
    "- `sklearn.model_selection.GridSearchCV` will allow us to use the grid search already implemented with cross-validation to find a nice starting point for our parameters before studying their influence on the score and fine-tuning the algorithm"
   ]
  },
  {
   "cell_type": "code",
   "execution_count": 19,
   "metadata": {},
   "outputs": [],
   "source": [
    "from sklearn.base import BaseEstimator, RegressorMixin\n",
    "from sklearn.model_selection import GridSearchCV"
   ]
  },
  {
   "cell_type": "markdown",
   "metadata": {},
   "source": [
    "One thing to note is that we chose to implement *L2 regularization with a shared parameter between user and item factors*. This choice was motivated by the will to keep the algorithm simple but also and mostly because with the limited data we felt having two differents parameters might overcomplicate the model without the data to back it up and find values for the two parameters that generalize well.\n",
    "\n",
    "An implementation hurdle was coping with the fact that the validation phase requires further partitioning the training set. That partition then removes some users and items from the training phase. We had to make up for this by flagging items and users that were examined and used in the training phase, and only computing the validation score on entries for those items and users."
   ]
  },
  {
   "cell_type": "code",
   "execution_count": 20,
   "metadata": {
    "colab": {},
    "colab_type": "code",
    "id": "VHPFFWQviUCX"
   },
   "outputs": [],
   "source": [
    "from lib import MF"
   ]
  },
  {
   "cell_type": "markdown",
   "metadata": {},
   "source": [
    "We then tried to run a grid search with cross-validation (similar split train/validation ratio than the train+validation/test ratio):"
   ]
  },
  {
   "cell_type": "code",
   "execution_count": 21,
   "metadata": {},
   "outputs": [],
   "source": [
    "parameter_grid = {\"n_epochs\" : range(10, 101, 20), \n",
    "                \"n_factors\" : range(10, 71, 20),\n",
    "                \"learning_rate\" : [0.001, 0.003, 0.005, 0.01],\n",
    "                \"learning_rate_bias\" : [0.003, 0.005, 0.007, 0.01],\n",
    "                \"lambd\" : [0.01, 0.03, 0.05, 0.1]}\n",
    "\n",
    "model1 = MF.MF(unique_users = total_users, unique_items = total_items, verbose = True)\n",
    "gs = GridSearchCV(model1, parameter_grid, cv = 5, error_score = 'raise')"
   ]
  },
  {
   "cell_type": "code",
   "execution_count": 22,
   "metadata": {},
   "outputs": [],
   "source": [
    "#gs.fit(X_train, y_train.values)"
   ]
  },
  {
   "cell_type": "markdown",
   "metadata": {},
   "source": [
    "We found the Grid Search to be excruciatingly long for such a small dataset. Looking to optimize the code, we decide to go in the way of **cythonization to aggressively optimize the fitting procedure**.\n",
    "The full code with cython can also be found in `/lib/MF_cython.pyx`"
   ]
  },
  {
   "cell_type": "code",
   "execution_count": 23,
   "metadata": {},
   "outputs": [],
   "source": [
    "%load_ext Cython"
   ]
  },
  {
   "cell_type": "code",
   "execution_count": 24,
   "metadata": {},
   "outputs": [],
   "source": [
    "%%cython\n",
    "\n",
    "from __future__ import (absolute_import, division, print_function,\n",
    "                        unicode_literals)\n",
    "from six.moves import range\n",
    "\n",
    "cimport cython\n",
    "\n",
    "import numpy as np\n",
    "cimport numpy as np \n",
    "\n",
    "from sklearn.base import BaseEstimator, RegressorMixin\n",
    "\n",
    "from lib import utils\n",
    "\n",
    "class MF_cython(BaseEstimator, RegressorMixin):  \n",
    "     \n",
    "    def __init__(self, n_epochs = 20, n_factors = 20, \n",
    "                 learning_rate = .007, learning_rate_bias = .007,\n",
    "                 lambd = 0.02,\n",
    "                 unique_users = 0, unique_items = 0,\n",
    "                 verbose = False,\n",
    "                 random_state = None,\n",
    "                 response_vector = None):\n",
    "        \"\"\"\n",
    "        This method is called when initializing the estimator\n",
    "        and assigns values to the object's parameters\n",
    "        The default values where chosen to be the same\n",
    "        as the SVD in the scikit `surprise` package \n",
    "        Args:\n",
    "            - self: MF object, to be initialized\n",
    "            - n_epochs: int, the number of epochs\n",
    "            - n_factors: int, the number of factors in the\n",
    "            latent user and item matrices\n",
    "            - learning_rate: float, the learning rate for the\n",
    "            SGD procedure used to find the user and item matrices\n",
    "            - learning_rate_bias: float, the learning rate for the\n",
    "            SGD procedure for the user and item biases\n",
    "            - lambd: float, the L2 regularization parameter\n",
    "            chosen to be the same for user and item vectors\n",
    "            - unique_users: int, the number of unique users\n",
    "            - unique_items: int, the number of unique items\n",
    "            - verbose: boolean, if True prints the progress of \n",
    "            the fit procedure for training purposes\n",
    "            - response_vector: array, used by the GridSearchCV class\n",
    "            of scikit-learn, kept equal to None in our work\n",
    "        \"\"\"\n",
    "        self.n_epochs = n_epochs\n",
    "        self.n_factors = n_factors\n",
    "        self.verbose = verbose\n",
    "        self.learning_rate = learning_rate\n",
    "        self.learning_rate_bias = learning_rate_bias\n",
    "        self.lambd = lambd\n",
    "        self.response_vector = response_vector\n",
    "        self.unique_users = unique_users\n",
    "        self.unique_items = unique_items\n",
    "    \n",
    "    @cython.boundscheck(False) # turn off bounds-checking for function\n",
    "    @cython.wraparound(False) # turn off negative index wrapping for function\n",
    "    def fit(self, X, y):\n",
    "        \"\"\"\n",
    "        This methods fits the algorithm to the data\n",
    "        Args:\n",
    "            - self: MF object, to be fitted\n",
    "            - X: panda DataFrame, with hashed available pairs of item-user\n",
    "            in columns `user` and `item`\n",
    "            - y: panda Series, with corresponding ratings to the\n",
    "            pairs of item-user in X\n",
    "        \"\"\"\n",
    "        \n",
    "        # Declarations\n",
    "        \n",
    "        # User and Item latent factors matrices\n",
    "        cdef np.ndarray[np.double_t, ndim = 2] U\n",
    "        cdef np.ndarray[np.double_t, ndim = 2] V\n",
    "        \n",
    "        # Bias vectors\n",
    "        cdef np.ndarray[np.double_t] Bu\n",
    "        cdef np.ndarray[np.double_t] Bi\n",
    "        \n",
    "        # Error vector\n",
    "        cdef np.ndarray[np.double_t] err\n",
    "        \n",
    "        # Numpyp array versions of columns in X\n",
    "        cdef np.ndarray[np.int16_t] user_column\n",
    "        cdef np.ndarray[np.int16_t] item_column\n",
    "        \n",
    "        # Numpy array that will control the order of the updates\n",
    "        cdef np.ndarray[np.long_t] random_indices\n",
    "        \n",
    "        # Visited users and items\n",
    "        cdef np.ndarray[np.int8_t] known_u\n",
    "        cdef np.ndarray[np.int8_t] known_i\n",
    "        \n",
    "        cdef int f, index\n",
    "        cdef double dot, Uf, Vf\n",
    "        cdef int nb_users, nb_items, size\n",
    "        cdef double global_mean\n",
    "        \n",
    "        # aliases\n",
    "        cdef double lr = self.learning_rate\n",
    "        cdef double lrb = self.learning_rate_bias\n",
    "        cdef double l = self.lambd\n",
    "\n",
    "        # Initializations\n",
    "        nb_users = self.unique_users\n",
    "        nb_items = self.unique_items\n",
    "        size = utils.total_ratings(X)\n",
    "        \n",
    "        Bu = np.zeros(nb_users, np.double)\n",
    "        Bi = np.zeros(nb_items, np.double)\n",
    "        \n",
    "        U = np.random.rand(nb_users, self.n_factors)\n",
    "        V = np.random.rand(nb_users, self.n_factors)\n",
    "        \n",
    "        user_column = np.array(X['user'], np.int16)\n",
    "        item_column = np.array(X['item'], np.int16)\n",
    "        \n",
    "        err = np.zeros(size, np.double)\n",
    "        \n",
    "        known_u = np.zeros(nb_users, np.int8)\n",
    "        known_i = np.zeros(nb_items, np.int8)\n",
    "        \n",
    "        global_mean = np.mean(y)\n",
    "\n",
    "        # Run SGD to update the factors\n",
    "        for epoch in range(self.n_epochs):\n",
    "            \n",
    "            if self.verbose and (epoch == 0 or (epoch + 1) % 10 == 0):\n",
    "                print(\"Starting epoch {}\".format(epoch + 1))\n",
    "            \n",
    "            random_indices = np.random.permutation(size)\n",
    "            \n",
    "            for index in random_indices:\n",
    "                \n",
    "                # -1 because hashing created users and items with integer\n",
    "                # values starting at 1\n",
    "                user = user_column[index] - 1\n",
    "                item = item_column[index] - 1\n",
    "                \n",
    "                # mark user and item as visited\n",
    "                known_u[user] = 1\n",
    "                known_i[item] = 1\n",
    "                \n",
    "                dot = 0\n",
    "                for f in range(self.n_factors):\n",
    "                    dot += V[item, f] * U[user, f] \n",
    "                    \n",
    "                # update error\n",
    "                err[index] = y[index] - (global_mean + Bu[user] + Bi[item] + dot)\n",
    "                \n",
    "                # update biases\n",
    "                Bu[user] += lrb * err[index]\n",
    "                Bi[item] += lrb * err[index]\n",
    "                \n",
    "                # simultaneous update\n",
    "                for f in range(self.n_factors):\n",
    "                    Uf = U[user, f]\n",
    "                    Vf = V[item, f]\n",
    "                    U[user, f] += lr * (err[index] * Vf - l * Uf)\n",
    "                    V[item, f] += lr * (err[index] * Uf - l * Vf)\n",
    "           \n",
    "        # store the results\n",
    "        self.bias_user_ = Bu\n",
    "        self.bias_item_ = Bi\n",
    "        self.latent_users_ = U\n",
    "        self.latent_items_ = V\n",
    "        \n",
    "        # store training mean\n",
    "        self.global_mean_ = global_mean\n",
    "        \n",
    "        # store visited items and users\n",
    "        self.known_users_ = known_u\n",
    "        self.known_items_ = known_i\n",
    "        \n",
    "        # compute the score: -RMSE\n",
    "        self.score_ = - np.sqrt(np.sum(err**2) / size)\n",
    "        \n",
    "        return self\n",
    "    \n",
    "    \n",
    "    def predict(self, X, y = None):\n",
    "        \"\"\"\n",
    "        This function predicts the ratings for the data in X\n",
    "        if the algorithm has been fitted, and throws an error otherwise\n",
    "        Args:\n",
    "            - self: MF object, should have called fit method earlier\n",
    "            - X: panda DataFrame, with pairs of item-user without ratings\n",
    "            - y: panda Series, needs to be supplied to insert in scikit-learn\n",
    "            pipeline but kept to value `None`\n",
    "        Output:\n",
    "            - prediction: np array, containing the predicted ratings for\n",
    "            each user-item pair in X\n",
    "        \"\"\"\n",
    "        \n",
    "        try:\n",
    "            getattr(self, \"latent_users_\")\n",
    "        except AttributeError:\n",
    "            raise RuntimeError(\"You must fit the model before predicting.\")\n",
    "        \n",
    "        # initialize predictions\n",
    "        prediction = np.zeros(X['user'].size)\n",
    "        \n",
    "        for index in range(X['user'].size):\n",
    "\n",
    "            user = utils.get_user_at(index, X) - 1\n",
    "            item = utils.get_item_at(index, X) - 1\n",
    "\n",
    "            if(self.known_users_[user] == 1 and self.known_items_[item] == 1):\n",
    "                dot = np.dot(self.latent_items_[item,], \n",
    "                             self.latent_users_[user,]) \n",
    "                bias = self.bias_user_[user] + self.bias_item_[item]\n",
    "                prediction[index] = dot + self.global_mean_ + bias\n",
    "            else:\n",
    "                prediction[index] = float('NaN')\n",
    "        \n",
    "        return prediction\n",
    "\n",
    "    \n",
    "    def score(self, X, y):\n",
    "        \"\"\"\n",
    "        This function returns the score obtained at the end of training\n",
    "        Args:\n",
    "            - self: MF object, should have called fit method earlier\n",
    "            - X: panda DataFrame, with pairs of item-user with ratings\n",
    "            - y: panda Series, contains the ratings associated with pairs in X\n",
    "        Output:\n",
    "            - score: float, the score on the training data (- RMSE)\n",
    "        \"\"\"\n",
    "        size = utils.total_ratings(X)\n",
    "        prediction = self.predict(X)\n",
    "        err = 0\n",
    "        real_size = 0\n",
    "        for i in range(size):\n",
    "            if(prediction[i] == prediction[i]): # check if NaN\n",
    "                err += (prediction[i] - y[i])**2\n",
    "                real_size += 1\n",
    "        score = - np.sqrt(err / real_size)\n",
    "        return score"
   ]
  },
  {
   "cell_type": "markdown",
   "metadata": {},
   "source": [
    "We reran a grid search with this cythonized version of matrix factorization which ran much quicker on our machines:"
   ]
  },
  {
   "cell_type": "code",
   "execution_count": 25,
   "metadata": {},
   "outputs": [],
   "source": [
    "model2 = MF_cython(unique_users = total_users, unique_items = total_items, verbose = True)\n",
    "gs = GridSearchCV(model2, parameter_grid, cv = 5, error_score = 'raise')"
   ]
  },
  {
   "cell_type": "code",
   "execution_count": 26,
   "metadata": {
    "scrolled": true
   },
   "outputs": [],
   "source": [
    "#gs.fit(X_train, y_train.values)\n",
    "#print(gs.best_params)"
   ]
  },
  {
   "cell_type": "markdown",
   "metadata": {},
   "source": [
    "*(comment out if you want to run the grid search, it might take a while as it runs more than 50,000 epochs!)*"
   ]
  },
  {
   "cell_type": "markdown",
   "metadata": {},
   "source": [
    "From this search and a we obtained best parameters :\n",
    "- `n_epochs`: 50\n",
    "- `n_factors`: 30\n",
    "- `learning_rate`: 0.005\n",
    "- `learning_rate_bias`: 0.007\n",
    "- `lambd`: 0.03\n"
   ]
  },
  {
   "cell_type": "markdown",
   "metadata": {},
   "source": [
    "We will use these values as the starting point for further manual fine-tuning:"
   ]
  },
  {
   "cell_type": "code",
   "execution_count": 27,
   "metadata": {},
   "outputs": [],
   "source": [
    "parameters = {'n_epochs' : 50 , 'n_factors' : 30 , 'learning_rate' : 0.005, 'learning_rate_bias' : 0.007,\n",
    "              'lambd' : 0.03, 'unique_users' : total_users, 'unique_items' : total_items}"
   ]
  },
  {
   "cell_type": "markdown",
   "metadata": {},
   "source": [
    "<a id='7'></a>\n",
    "#### Tuning the hyper-parameters"
   ]
  },
  {
   "cell_type": "code",
   "execution_count": 28,
   "metadata": {},
   "outputs": [],
   "source": [
    "import matplotlib.pyplot as plt"
   ]
  },
  {
   "cell_type": "markdown",
   "metadata": {},
   "source": [
    "Starting with the parameters obtained with grid search let us study the influence of each parameter, maintaining the others fixed. For each parameter we will **plot the RMSE of the validation data obtained with cross-validation**.\n",
    "\n",
    "We will go through a few rounds of tuning, stopping when the gains in RMSE across the considered values are judged too small to reveal a better model rather than just fit this particular training data better. We will consider that we need an improvement of at least `0.001` in the RMSE to continue tuning a parameter."
   ]
  },
  {
   "cell_type": "code",
   "execution_count": 29,
   "metadata": {},
   "outputs": [],
   "source": [
    "from sklearn.model_selection import cross_val_score"
   ]
  },
  {
   "cell_type": "code",
   "execution_count": 30,
   "metadata": {},
   "outputs": [],
   "source": [
    "def compute_rmse(parameter_name, parameter_list, parameters):\n",
    "    rmse_validation = []\n",
    "    for parameter_value in parameter_list:\n",
    "        parameters[parameter_name] = parameter_value\n",
    "        model = MF_cython(**parameters)\n",
    "        scores = cross_val_score(model, X_train, y_train.values, cv = 5)\n",
    "        rmse_validation.append(-np.average(scores))\n",
    "    return rmse_validation"
   ]
  },
  {
   "cell_type": "markdown",
   "metadata": {},
   "source": [
    "#### 1. First round of tuning"
   ]
  },
  {
   "cell_type": "markdown",
   "metadata": {},
   "source": [
    "- `n_epochs`"
   ]
  },
  {
   "cell_type": "code",
   "execution_count": 31,
   "metadata": {
    "scrolled": true
   },
   "outputs": [],
   "source": [
    "epochs = [1, 5, 10, 20, 30, 40, 50, 60, 70, 80]\n",
    "rmse_validation = compute_rmse('n_epochs', epochs, parameters)"
   ]
  },
  {
   "cell_type": "code",
   "execution_count": 32,
   "metadata": {},
   "outputs": [
    {
     "data": {
      "image/png": "[encoded data removed]",
      "text/plain": [
       "<Figure size 432x288 with 1 Axes>"
      ]
     },
     "metadata": {},
     "output_type": "display_data"
    }
   ],
   "source": [
    "utils.plot_rmse('epoch', epochs, rmse_validation)"
   ]
  },
  {
   "cell_type": "markdown",
   "metadata": {},
   "source": [
    "From this plot we see that starting around `epoch 20`, there seems to be overfitting on the training data, detrimental to generalization on the validation data. A global minimum of RMSE due to epoch change seems to lie around epoch 20 and we will see if we can get significantly improve the RMSE in a second round of tuning after tuning the other parameters."
   ]
  },
  {
   "cell_type": "code",
   "execution_count": 31,
   "metadata": {},
   "outputs": [],
   "source": [
    "parameters['n_epochs'] = 20"
   ]
  },
  {
   "cell_type": "markdown",
   "metadata": {},
   "source": [
    "- `n_factors`"
   ]
  },
  {
   "cell_type": "code",
   "execution_count": 34,
   "metadata": {
    "scrolled": true
   },
   "outputs": [],
   "source": [
    "factors = [10, 20, 30, 40, 50, 60, 70, 80]\n",
    "rmse_validation = compute_rmse('n_factors', factors, parameters)"
   ]
  },
  {
   "cell_type": "code",
   "execution_count": 35,
   "metadata": {},
   "outputs": [
    {
     "data": {
      "image/png": "[encoded data removed]",
      "text/plain": [
       "<Figure size 432x288 with 1 Axes>"
      ]
     },
     "metadata": {},
     "output_type": "display_data"
    }
   ],
   "source": [
    "utils.plot_rmse('factor', factors, rmse_validation)"
   ]
  },
  {
   "cell_type": "markdown",
   "metadata": {},
   "source": [
    "The plot tells us that the optimal number of factors is probably near the lowest values we tried (at least for the values of the other fixed parameters). We were surprised to see that so few dimensions provided better result. Again, with the little data at hand, fitting a complex model does not make much sense and is bound to give worse results that a simpler one if the data is not sufficient to properly tune the coefficients in the matrices.\n",
    "\n",
    "We will look into finding a better value in a second round."
   ]
  },
  {
   "cell_type": "code",
   "execution_count": 32,
   "metadata": {},
   "outputs": [],
   "source": [
    "parameters['n_factors'] = 10"
   ]
  },
  {
   "cell_type": "markdown",
   "metadata": {},
   "source": [
    "- `learning_rate`"
   ]
  },
  {
   "cell_type": "code",
   "execution_count": 37,
   "metadata": {
    "scrolled": true
   },
   "outputs": [],
   "source": [
    "lrs = [0.001, 0.003, 0.005, 0.007, 0.01, 0.03, 0.05, 0.07]\n",
    "rmse_validation = compute_rmse('learning_rate', lrs, parameters)"
   ]
  },
  {
   "cell_type": "code",
   "execution_count": 38,
   "metadata": {},
   "outputs": [
    {
     "data": {
      "image/png": "[encoded data removed]",
      "text/plain": [
       "<Figure size 432x288 with 1 Axes>"
      ]
     },
     "metadata": {},
     "output_type": "display_data"
    }
   ],
   "source": [
    "utils.plot_rmse('learning rate', lrs, rmse_validation)"
   ]
  },
  {
   "cell_type": "markdown",
   "metadata": {},
   "source": [
    "The optimal learning rates so far seem to lie between 0.001 and 0.01, which is a typical range for a learning rate for a stochastic gradient descent problem. A learning rate that is too large has greater chances of missing local optima and rather dance around it and skipping critical regions because the updates are too large. On the other hand, a learning rate that is too small requires much more convergence time and we might not reach local minimas with the current number of epochs.\n",
    "\n",
    "For now we will pick one of the two values that gave the lowest RMSE."
   ]
  },
  {
   "cell_type": "code",
   "execution_count": 33,
   "metadata": {},
   "outputs": [],
   "source": [
    "parameters['learning_rate'] = 0.005"
   ]
  },
  {
   "cell_type": "markdown",
   "metadata": {},
   "source": [
    "- `learning_rate_bias`:"
   ]
  },
  {
   "cell_type": "code",
   "execution_count": 40,
   "metadata": {},
   "outputs": [],
   "source": [
    "rmse_validation = compute_rmse('learning_rate_bias', lrs, parameters)"
   ]
  },
  {
   "cell_type": "code",
   "execution_count": 41,
   "metadata": {},
   "outputs": [
    {
     "data": {
      "image/png": "[encoded data removed]",
      "text/plain": [
       "<Figure size 432x288 with 1 Axes>"
      ]
     },
     "metadata": {},
     "output_type": "display_data"
    }
   ],
   "source": [
    "utils.plot_rmse('bias learning rate', lrs, rmse_validation)"
   ]
  },
  {
   "cell_type": "markdown",
   "metadata": {},
   "source": [
    "The learning rate for bias (shared between user and item biases) seems to give better results between 0.005 and 0.01 - for the fixed values of the other parameters we have."
   ]
  },
  {
   "cell_type": "code",
   "execution_count": 34,
   "metadata": {},
   "outputs": [],
   "source": [
    "parameters['learning_rate_bias'] = 0.007"
   ]
  },
  {
   "cell_type": "markdown",
   "metadata": {},
   "source": [
    "- `lambd`"
   ]
  },
  {
   "cell_type": "code",
   "execution_count": 43,
   "metadata": {
    "scrolled": true
   },
   "outputs": [],
   "source": [
    "lambdas = [0.01, 0.03, 0.05, 0.07, 0.1, 0.3, 0.5, 0.7]\n",
    "rmse_validation = compute_rmse('lambd', lambdas, parameters)"
   ]
  },
  {
   "cell_type": "code",
   "execution_count": 44,
   "metadata": {},
   "outputs": [
    {
     "data": {
      "image/png": "[encoded data removed]",
      "text/plain": [
       "<Figure size 432x288 with 1 Axes>"
      ]
     },
     "metadata": {},
     "output_type": "display_data"
    }
   ],
   "source": [
    "utils.plot_rmse('lambda', lambdas, rmse_validation)"
   ]
  },
  {
   "cell_type": "markdown",
   "metadata": {},
   "source": [
    "The optimal regularization parameters so far seem to lie between 0.5 and 0.7, which is outside of a typical range for a L2 regularization parameter for a stochastic gradient descent linear problem. Too high a lambda prevents the algorithm from learning useful features and fitting the data. Too low a value prevents the algorithm from reaping the benefit of regularization, which is to control the size of the parameters learned to reduce risks of overfitting.\n",
    "\n",
    "Having a high lambda reduces the weight of the latent factors in the prediction and gives more importance to the bias terms.\n",
    "\n",
    "The baseline algorithm we will compare this too is pure biases and will probably perform well on the data, since the training here demonstrates that the biases should be heavily weighted compared to the factor dot product.\n",
    "\n",
    "We will pick the following value of lambda moving on:"
   ]
  },
  {
   "cell_type": "code",
   "execution_count": 35,
   "metadata": {},
   "outputs": [],
   "source": [
    "parameters['lambd'] = 0.7"
   ]
  },
  {
   "cell_type": "markdown",
   "metadata": {},
   "source": [
    "#### 2. Second round of tuning"
   ]
  },
  {
   "cell_type": "markdown",
   "metadata": {},
   "source": [
    "- `n_epochs`"
   ]
  },
  {
   "cell_type": "code",
   "execution_count": 46,
   "metadata": {
    "scrolled": true
   },
   "outputs": [],
   "source": [
    "epochs = [15, 20, 25]\n",
    "rmse_validation = compute_rmse('n_epochs', epochs, parameters)"
   ]
  },
  {
   "cell_type": "code",
   "execution_count": 47,
   "metadata": {},
   "outputs": [
    {
     "data": {
      "image/png": "[encoded data removed]",
      "text/plain": [
       "<Figure size 432x288 with 1 Axes>"
      ]
     },
     "metadata": {},
     "output_type": "display_data"
    }
   ],
   "source": [
    "utils.plot_rmse('epoch', epochs, rmse_validation)"
   ]
  },
  {
   "cell_type": "markdown",
   "metadata": {},
   "source": [
    "Looking at the plot we decide to stick with the previous value of `20` for `n_epochs`. \n",
    "\n",
    "It does not make much sense to continue tuning the epoch number further, it would most probably not generalize so well if discretize the field of possible values further."
   ]
  },
  {
   "cell_type": "markdown",
   "metadata": {},
   "source": [
    "- `n_factors`"
   ]
  },
  {
   "cell_type": "code",
   "execution_count": 48,
   "metadata": {
    "scrolled": true
   },
   "outputs": [],
   "source": [
    "factors = [7, 8, 9, 10, 11, 12, 13, 14, 15, 16]\n",
    "rmse_validation = compute_rmse('n_factors', factors, parameters)"
   ]
  },
  {
   "cell_type": "code",
   "execution_count": 49,
   "metadata": {},
   "outputs": [
    {
     "data": {
      "image/png": "[encoded data removed]",
      "text/plain": [
       "<Figure size 432x288 with 1 Axes>"
      ]
     },
     "metadata": {},
     "output_type": "display_data"
    }
   ],
   "source": [
    "utils.plot_rmse('factor', factors, rmse_validation)"
   ]
  },
  {
   "cell_type": "markdown",
   "metadata": {},
   "source": [
    "We can improve the RMSE with `n_factors = 7` compared to the previous 10. We fear taking such a low value will lead to poor generalization so we will stick with 10.\n",
    "\n",
    "We end up with a - still - very low value for the number of factors (10) which can be surprising. Nevertheless we believe the size of the data explains that a model with so few degrees of freedom (taking each cell in the item and user matrices as a degree of freedom) can explain the patterns in the ratings pretty well. \n",
    "\n",
    "With 10 factors, we reduce the maximum number of cells from the original matrix `nb_items * nb_users = 10M` to `n_factors * (nb_items + nb_users) = 110,000` approximately, which is a reduction of parameters to estimate of one hundreth!"
   ]
  },
  {
   "cell_type": "markdown",
   "metadata": {},
   "source": [
    "- `learning_rate`"
   ]
  },
  {
   "cell_type": "code",
   "execution_count": 50,
   "metadata": {
    "scrolled": true
   },
   "outputs": [],
   "source": [
    "lrs = [0.006, 0.007, 0.008, 0.009]\n",
    "rmse_validation = compute_rmse('learning_rate', lrs, parameters)"
   ]
  },
  {
   "cell_type": "code",
   "execution_count": 51,
   "metadata": {},
   "outputs": [
    {
     "data": {
      "image/png": "[encoded data removed]",
      "text/plain": [
       "<Figure size 432x288 with 1 Axes>"
      ]
     },
     "metadata": {},
     "output_type": "display_data"
    }
   ],
   "source": [
    "utils.plot_rmse('learning rate', lrs, rmse_validation)"
   ]
  },
  {
   "cell_type": "markdown",
   "metadata": {},
   "source": [
    "The gain in RMSE for any of the values is larger than 0.001 compared to its value for `learning_rate = 0.007` and remains in a reasonable range for a learning rate - giving us confidence that we might not be overly overfitting the training data - so we will change to 0.009."
   ]
  },
  {
   "cell_type": "code",
   "execution_count": 36,
   "metadata": {},
   "outputs": [],
   "source": [
    "parameters['learning_rate'] = 0.009"
   ]
  },
  {
   "cell_type": "markdown",
   "metadata": {},
   "source": [
    "- `learning_rate_bias`"
   ]
  },
  {
   "cell_type": "code",
   "execution_count": 52,
   "metadata": {},
   "outputs": [],
   "source": [
    "lrs = [0.008, 0.009, 0.01]\n",
    "rmse_validation = compute_rmse('learning_rate_bias', lrs, parameters)"
   ]
  },
  {
   "cell_type": "code",
   "execution_count": 53,
   "metadata": {},
   "outputs": [
    {
     "data": {
      "image/png": "[encoded data removed]",
      "text/plain": [
       "<Figure size 432x288 with 1 Axes>"
      ]
     },
     "metadata": {},
     "output_type": "display_data"
    }
   ],
   "source": [
    "utils.plot_rmse('bias learning rate', lrs, rmse_validation)"
   ]
  },
  {
   "cell_type": "markdown",
   "metadata": {},
   "source": [
    "We pick value 0.008 for `learning_rate_bias` with a gain in more than 0.002 in RMSE, keeping in a reasonable range for a learning bias."
   ]
  },
  {
   "cell_type": "code",
   "execution_count": 37,
   "metadata": {},
   "outputs": [],
   "source": [
    "parameters['learning_rate_bias'] = 0.008"
   ]
  },
  {
   "cell_type": "markdown",
   "metadata": {},
   "source": [
    "- `lambd`"
   ]
  },
  {
   "cell_type": "code",
   "execution_count": 55,
   "metadata": {
    "scrolled": true
   },
   "outputs": [],
   "source": [
    "lambdas = [0.6, 0.7, 0.8, 0.9, 1.]\n",
    "rmse_validation = compute_rmse('lambd', lambdas, parameters)"
   ]
  },
  {
   "cell_type": "code",
   "execution_count": 56,
   "metadata": {},
   "outputs": [
    {
     "data": {
      "image/png": "[encoded data removed]",
      "text/plain": [
       "<Figure size 432x288 with 1 Axes>"
      ]
     },
     "metadata": {},
     "output_type": "display_data"
    }
   ],
   "source": [
    "utils.plot_rmse('lambda', lambdas, rmse_validation)"
   ]
  },
  {
   "cell_type": "markdown",
   "metadata": {},
   "source": [
    "We will set `lambda` to 0.9 and will stop the tuning here. This is a very high regularization parameter which gives a lot of importance to the user and item biases. We will see how it compares to the baseline with only biases."
   ]
  },
  {
   "cell_type": "code",
   "execution_count": 38,
   "metadata": {},
   "outputs": [],
   "source": [
    "parameters['lambda'] = 0.9"
   ]
  },
  {
   "cell_type": "markdown",
   "metadata": {},
   "source": [
    "*In a business setting, with more computational power, we would distribute this tuning procedure with many different starting points - rather than just the one obtained with a single grid search - to find a better local optimum. We realize the parameters we chose have little chance of representing the best model out of all possible models we could try. Nevertheless, it might be a good enough model with regards to the acceptance criteria described in our introduction with comparisons with a baseline.*"
   ]
  },
  {
   "cell_type": "markdown",
   "metadata": {},
   "source": [
    "Summarizing our model :"
   ]
  },
  {
   "cell_type": "code",
   "execution_count": 31,
   "metadata": {},
   "outputs": [],
   "source": [
    "parameters = {'n_epochs' : 20 , 'n_factors' : 10 , 'learning_rate' : 0.009, 'learning_rate_bias' : 0.008,\n",
    "              'lambd' : 0.9, 'unique_users' : total_users, 'unique_items' : total_items}\n",
    "mf_model = MF_cython(**parameters) "
   ]
  },
  {
   "cell_type": "markdown",
   "metadata": {},
   "source": [
    "Let us fit our model to prepare it for evaluation:"
   ]
  },
  {
   "cell_type": "code",
   "execution_count": 32,
   "metadata": {},
   "outputs": [
    {
     "data": {
      "text/plain": [
       "MF_cython(lambd=0.9, learning_rate=0.009, learning_rate_bias=0.008,\n",
       "     n_epochs=20, n_factors=10, random_state=None, response_vector=None,\n",
       "     unique_items=879, unique_users=10000, verbose=False)"
      ]
     },
     "execution_count": 32,
     "metadata": {},
     "output_type": "execute_result"
    }
   ],
   "source": [
    "mf_model.fit(X_train, y_train.values)"
   ]
  },
  {
   "cell_type": "markdown",
   "metadata": {},
   "source": [
    "<a id='8'></a>\n",
    "#### Changing model size"
   ]
  },
  {
   "cell_type": "markdown",
   "metadata": {},
   "source": [
    "Let us now go back and subsample the original data, to study the impact of a change in model size both in terms of accuracy and runtime:"
   ]
  },
  {
   "cell_type": "code",
   "execution_count": 58,
   "metadata": {},
   "outputs": [],
   "source": [
    "import time"
   ]
  },
  {
   "cell_type": "code",
   "execution_count": null,
   "metadata": {},
   "outputs": [],
   "source": [
    "scores = []\n",
    "times = []\n",
    "sample_sizes = np.linspace(0.1*total_ratings, total_ratings, 10)\n",
    "for size in sample_sizes:\n",
    "    subsample_ratings = ratings.sample(int(size))\n",
    "    hashed_ratings_sub = utils.hash_data(subsample_ratings)\n",
    "    t_sub, reduced_ratings_sub = separate_items_with_few_ratings(1, hashed_ratings_sub)\n",
    "    X_train_sub, X_test_sub,_,_ = train_test_split(reduced_ratings_sub, \n",
    "                                           reduced_ratings_sub['item'], \n",
    "                                           test_size = 0.15, \n",
    "                                           stratify = reduced_ratings_sub['item'],\n",
    "                                           random_state = 769)\n",
    "    X_train_sub = pd.concat([X_train_sub,t_sub])\n",
    "    y_train_sub = X_train_sub['rating']\n",
    "    y_test_sub = X_test_sub['rating']\n",
    "    mf = MF_cython(**parameters)\n",
    "    start = time.time()\n",
    "    mf.fit(X_train_sub, y_train_sub.values)\n",
    "    end = time.time()\n",
    "    times.append(end - start)\n",
    "    scores.append(-mf.score(X_test_sub, y_test_sub.values))\n"
   ]
  },
  {
   "cell_type": "code",
   "execution_count": 62,
   "metadata": {},
   "outputs": [],
   "source": [
    "sample_sizes = [x / 1000 for x in sample_sizes]"
   ]
  },
  {
   "cell_type": "markdown",
   "metadata": {},
   "source": [
    "Let us plot the scores :"
   ]
  },
  {
   "cell_type": "code",
   "execution_count": 63,
   "metadata": {},
   "outputs": [
    {
     "data": {
      "image/png": "[encoded data removed]",
      "text/plain": [
       "<Figure size 432x288 with 1 Axes>"
      ]
     },
     "metadata": {},
     "output_type": "display_data"
    }
   ],
   "source": [
    "plt.plot(sample_sizes, scores, 'g^')\n",
    "plt.xlabel('Sample size (in thousands of ratings)')\n",
    "plt.ylabel('RMSE')\n",
    "plt.title('Influence of sample size on accuracy')\n",
    "plt.show()"
   ]
  },
  {
   "cell_type": "markdown",
   "metadata": {},
   "source": [
    "The overall trend is a small decrease in RMSE from 0.90 to under 0.865. \n"
   ]
  },
  {
   "cell_type": "markdown",
   "metadata": {},
   "source": [
    "Now, let us plot the runtime :"
   ]
  },
  {
   "cell_type": "code",
   "execution_count": 64,
   "metadata": {},
   "outputs": [
    {
     "data": {
      "image/png": "[encoded data removed]",
      "text/plain": [
       "<Figure size 432x288 with 1 Axes>"
      ]
     },
     "metadata": {},
     "output_type": "display_data"
    }
   ],
   "source": [
    "plt.plot(sample_sizes, times, 'bs')\n",
    "plt.xlabel('Sample size (in thousands of ratings)')\n",
    "plt.ylabel('Runtime (in seconds)')\n",
    "plt.title('Influence of sample size on runtime')\n",
    "plt.show()"
   ]
  },
  {
   "cell_type": "markdown",
   "metadata": {},
   "source": [
    "As expected, with a fixed number of factors, the time complexity is linear in the number of ratings used for training! This can be leveraged to scale if more data is available, this algorithm shouldn't give us problems to train and tune, especially if we distribute the calculations for grid search and cross validation to tune parameters. Space complexity is an entirely different issue that hasn't been handled here at all nevertheless."
   ]
  },
  {
   "cell_type": "markdown",
   "metadata": {},
   "source": [
    "<a id='9'></a>\n",
    "### Algorithm 2 - User-based neighborhood model\n",
    "\n",
    "We implemented **k-nearest neighbors** user_based collaborative filtering from scratch. The code can be found in `./lib/knn.py`.\n",
    "\n",
    "We chose to use the `surprise` package in our analysis here to familiarize ourselves with this framework - which has a similar implementation to ours but is more optimized. \n",
    "\n",
    "We import the following:\n",
    "- `surprise.prediction_algorithms.knns` contains prediction algorithms that are directly derived from a basic nearest neighbors approach.\n",
    "- `surprise.Dataset` handles dataset creations to prepare them for prediction\n",
    "- `surprise.Reader` handles the loading of a dataset from a Pandas dataframe\n",
    "- `surprise.model_selection.KFold` allows us to cross-validate to tune the number of neighbors\n",
    "- `surprise.accuracy` contains the RMSE metric used to evaluate the algorithm"
   ]
  },
  {
   "cell_type": "code",
   "execution_count": 33,
   "metadata": {},
   "outputs": [],
   "source": [
    "from surprise.prediction_algorithms import knns\n",
    "from surprise import Dataset\n",
    "from surprise import Reader\n",
    "from surprise.model_selection import KFold\n",
    "from surprise import accuracy"
   ]
  },
  {
   "cell_type": "markdown",
   "metadata": {},
   "source": [
    "<a id='10'></a>\n",
    "#### Implementation of the model"
   ]
  },
  {
   "cell_type": "markdown",
   "metadata": {},
   "source": [
    "To load the model we just use this simple call - the number of neighbors is implicitely set to `40` as a starting point."
   ]
  },
  {
   "cell_type": "code",
   "execution_count": 34,
   "metadata": {},
   "outputs": [],
   "source": [
    "nm = knns.KNNBasic(sim_options = {'name' : 'pearson'}, verbose = False)"
   ]
  },
  {
   "cell_type": "markdown",
   "metadata": {},
   "source": [
    "*Why did we turn to the Pearson similarity measure rather any other such as cosine?*"
   ]
  },
  {
   "cell_type": "markdown",
   "metadata": {},
   "source": [
    "The Pearson coefficient is invariant to shifts in the input which makes it more robust, a quality we look fort in order to be able to scale and bring in more data at some point.\n",
    "The Pearson measure tends to eliminate the offsets in rating patterns between users, leaving only the comparative differences across items; as such it is generally desirable.\n",
    "Choosing another metric would require more justification based on data exploration, so our safest bet is Pearson for now."
   ]
  },
  {
   "cell_type": "markdown",
   "metadata": {},
   "source": [
    "<a id='11'></a>\n",
    "#### Tuning the hyper-parameters"
   ]
  },
  {
   "cell_type": "markdown",
   "metadata": {},
   "source": [
    "For this algorithm, we have only one hyper-parameter to tune : the size of the users' neighborhood. We have implemented our own cross-validation procedure with the help of the `KFold` function that divides ou training data into 5 folds."
   ]
  },
  {
   "cell_type": "code",
   "execution_count": 35,
   "metadata": {},
   "outputs": [],
   "source": [
    "train = pd.DataFrame({'user' : X_train['user'], 'item' : X_train['item'], 'rating' : y_train})\n",
    "reader = Reader(rating_scale=(1, 5))\n",
    "train = Dataset.load_from_df(train, reader)"
   ]
  },
  {
   "cell_type": "code",
   "execution_count": 52,
   "metadata": {},
   "outputs": [],
   "source": [
    "list_k = [10*i for i in range(2,10)]"
   ]
  },
  {
   "cell_type": "code",
   "execution_count": 53,
   "metadata": {
    "scrolled": true
   },
   "outputs": [],
   "source": [
    "kf = KFold(n_splits = 5)\n",
    "rmse_list = []\n",
    "for k in list_k:\n",
    "    rmse = 0\n",
    "    nm_k = knns.KNNBasic(k = k, sim_options = {'name' : 'pearson'}, verbose = False)\n",
    "    for trainset, testset in kf.split(train):\n",
    "        nm_k.fit(trainset)\n",
    "        predictions = nm_k.test(testset)\n",
    "        rmse += accuracy.rmse(predictions, verbose = False)\n",
    "    rmse_avg = rmse / 5\n",
    "    rmse_list.append(rmse_avg)\n",
    "optim_k = list_k[rmse_list.index(min(rmse_list))]"
   ]
  },
  {
   "cell_type": "markdown",
   "metadata": {},
   "source": [
    "We end up with the following value for k"
   ]
  },
  {
   "cell_type": "code",
   "execution_count": 37,
   "metadata": {},
   "outputs": [
    {
     "data": {
      "text/plain": [
       "70"
      ]
     },
     "execution_count": 37,
     "metadata": {},
     "output_type": "execute_result"
    }
   ],
   "source": [
    "optim_k"
   ]
  },
  {
   "cell_type": "markdown",
   "metadata": {},
   "source": [
    "Let us now instantiate the final model and fit it:"
   ]
  },
  {
   "cell_type": "code",
   "execution_count": 38,
   "metadata": {},
   "outputs": [],
   "source": [
    "from surprise.model_selection import train_test_split as t_t_split"
   ]
  },
  {
   "cell_type": "code",
   "execution_count": 39,
   "metadata": {},
   "outputs": [],
   "source": [
    "train,_= t_t_split(train, test_size = 1e-10)"
   ]
  },
  {
   "cell_type": "code",
   "execution_count": 40,
   "metadata": {},
   "outputs": [
    {
     "data": {
      "text/plain": [
       "<surprise.prediction_algorithms.knns.KNNBasic at 0x1a196a0828>"
      ]
     },
     "execution_count": 40,
     "metadata": {},
     "output_type": "execute_result"
    }
   ],
   "source": [
    "nm = knns.KNNBasic(k = optim_k, sim_options = {'name' : 'pearson'}, verbose = False)\n",
    "nm.fit(train)"
   ]
  },
  {
   "cell_type": "markdown",
   "metadata": {},
   "source": [
    "<a id='12'></a>\n",
    "#### Changing model size"
   ]
  },
  {
   "cell_type": "markdown",
   "metadata": {},
   "source": [
    "Let us now go back and subsample the original data, to study the impact of a change in model size both in terms of accuracy and runtime:"
   ]
  },
  {
   "cell_type": "code",
   "execution_count": 72,
   "metadata": {},
   "outputs": [],
   "source": [
    "scores = []\n",
    "times = []\n",
    "sample_sizes = np.linspace(0.1*total_ratings, total_ratings, 10)\n",
    "for size in sample_sizes:\n",
    "    subsample_ratings = ratings.sample(int(size))\n",
    "    hashed_sub = utils.hash_data(subsample_ratings)\n",
    "    data_sub = pd.DataFrame({'user' : hashed_sub['user'], \n",
    "                         'item' : hashed_sub['item'], \n",
    "                         'rating' : hashed_sub['rating']})\n",
    "    data_sub = Dataset.load_from_df(data_sub, reader)\n",
    "    train_sub, test_sub = t_t_split(data_sub, test_size = .2)\n",
    "    nm = knns.KNNBasic(k = optim_k, \n",
    "                       sim_options = {'name' : 'pearson'},\n",
    "                       verbose = False)\n",
    "    start = time.time()\n",
    "    nm.fit(train_sub)\n",
    "    end = time.time()\n",
    "    times.append(end - start)\n",
    "    predictions = nm.test(test_sub)\n",
    "    rmse = accuracy.rmse(predictions, verbose = False)\n",
    "    scores.append(rmse)"
   ]
  },
  {
   "cell_type": "code",
   "execution_count": 73,
   "metadata": {},
   "outputs": [],
   "source": [
    "sample_sizes = [x / 1000 for x in sample_sizes]"
   ]
  },
  {
   "cell_type": "code",
   "execution_count": 74,
   "metadata": {},
   "outputs": [
    {
     "data": {
      "image/png": "[encoded data removed]",
      "text/plain": [
       "<Figure size 432x288 with 1 Axes>"
      ]
     },
     "metadata": {
      "needs_background": "light"
     },
     "output_type": "display_data"
    }
   ],
   "source": [
    "plt.plot(sample_sizes, scores, 'g^')\n",
    "plt.xlabel('Sample size (in thousands of ratings)')\n",
    "plt.ylabel('RMSE')\n",
    "plt.title('Influence of sample size on accuracy')\n",
    "plt.show()"
   ]
  },
  {
   "cell_type": "markdown",
   "metadata": {},
   "source": [
    "We can understand from the graph than the more ratings we have the best the model is - at first! \n",
    "It is often the case for memory-based model. Since we have fixed the number of neighbors in this experiments,\n",
    "the more ratings we have, the more ratings will be considered in the prediction, namely in the peer-set, hence giving a better result.\n",
    "However, comes a time when adding to many peers to a user's neighborhood creates more noise than actual information. For instance if a user is very close in taste to 10 other users in the matrix and all the other users have opposite taste, a 11-nearest neighbor model will perform worse than a 10-nearest neighbor model for this user, as we had to add someone with poor compatibility in this user peer set.\n"
   ]
  },
  {
   "cell_type": "code",
   "execution_count": 75,
   "metadata": {},
   "outputs": [
    {
     "data": {
      "image/png": "[encoded data removed]",
      "text/plain": [
       "<Figure size 432x288 with 1 Axes>"
      ]
     },
     "metadata": {
      "needs_background": "light"
     },
     "output_type": "display_data"
    }
   ],
   "source": [
    "plt.plot(sample_sizes, times, 'bs')\n",
    "plt.xlabel('Sample size (in thousands of ratings)')\n",
    "plt.ylabel('Runtime (in seconds)')\n",
    "plt.title('Influence of sample size on runtime')\n",
    "plt.show()"
   ]
  },
  {
   "cell_type": "markdown",
   "metadata": {},
   "source": [
    "As opposed to matrix factorization that was linear on the number of ratings we have, here with knn, we have a quadratic running time. \n",
    "The surprise implementation must be well optimized but we can still see that it is not linear. Indeed, it is a (n_users, n_items) matrix that we are using. \n",
    "The similarity matrix itself is a (n_users, n_users) matrix. Even if it is a symmetric matrix, it still is O(n_users x n_items)."
   ]
  },
  {
   "cell_type": "markdown",
   "metadata": {},
   "source": [
    "<a id='13'></a>\n",
    "### Evaluation of the models\n",
    "___"
   ]
  },
  {
   "cell_type": "markdown",
   "metadata": {},
   "source": [
    "#### Build the baseline"
   ]
  },
  {
   "cell_type": "markdown",
   "metadata": {},
   "source": [
    "Let us load  and fit the baseline:"
   ]
  },
  {
   "cell_type": "code",
   "execution_count": 41,
   "metadata": {},
   "outputs": [],
   "source": [
    "from lib import Baseline"
   ]
  },
  {
   "cell_type": "code",
   "execution_count": 42,
   "metadata": {},
   "outputs": [
    {
     "data": {
      "text/plain": [
       "Baseline(response_vector=None, unique_items=879, unique_users=10000)"
      ]
     },
     "execution_count": 42,
     "metadata": {},
     "output_type": "execute_result"
    }
   ],
   "source": [
    "baseline_model = Baseline.Baseline(unique_users = total_users, unique_items = total_items)\n",
    "baseline_model.fit(X_train, y_train)"
   ]
  },
  {
   "cell_type": "markdown",
   "metadata": {},
   "source": [
    "#### Evaluation"
   ]
  },
  {
   "cell_type": "markdown",
   "metadata": {},
   "source": [
    "Now that we have tuned our algorithms with grid search and cross-validation, let us fit them to the testing data and compute our accuracy metrics - **RMSE** and **Kendall rank correlation coefficient** - to both algorithms and the baseline algorithm we implemented in `/lib/Baseline.py` that computes ratings by averaging over both users and items.\n",
    "\n",
    "We will also look at the **coverage** of the algorithms, assuming we recommend the **top 10 movies** to each user:\n",
    "\n",
    "Both evaluating metrics can be found in `/lib/metrics.py`"
   ]
  },
  {
   "cell_type": "code",
   "execution_count": 43,
   "metadata": {},
   "outputs": [],
   "source": [
    "from lib import metrics"
   ]
  },
  {
   "cell_type": "markdown",
   "metadata": {},
   "source": [
    "We predict values with the neighborhood model:"
   ]
  },
  {
   "cell_type": "code",
   "execution_count": 44,
   "metadata": {},
   "outputs": [],
   "source": [
    "test = pd.DataFrame({'user' : X_test['user'], 'item' : X_test['item'], 'rating' : y_test})\n",
    "test = Dataset.load_from_df(test, reader)\n",
    "_, test = t_t_split(test, test_size = 1.)\n",
    "prediction = nm.test(test)"
   ]
  },
  {
   "cell_type": "code",
   "execution_count": 45,
   "metadata": {},
   "outputs": [],
   "source": [
    "nm_prediction = []\n",
    "for pred in prediction:\n",
    "    nm_prediction.append(pred.est)"
   ]
  },
  {
   "cell_type": "markdown",
   "metadata": {},
   "source": [
    "We build dictionaries containing the evaluation metrics for each algorithm:"
   ]
  },
  {
   "cell_type": "code",
   "execution_count": 46,
   "metadata": {},
   "outputs": [],
   "source": [
    "def round_float(float_nb):\n",
    "    return float(\"{0:.3f}\".format(float_nb))"
   ]
  },
  {
   "cell_type": "code",
   "execution_count": 47,
   "metadata": {},
   "outputs": [],
   "source": [
    "import warnings"
   ]
  },
  {
   "cell_type": "code",
   "execution_count": 49,
   "metadata": {},
   "outputs": [],
   "source": [
    "warnings.filterwarnings(\"ignore\")\n",
    "rmse = {'Baseline': -round_float(baseline_model.score(X_test, y_test.values)), \n",
    "        'MF': -round_float(mf_model.score(X_test, y_test.values)), \n",
    "        'NM': round_float(accuracy.rmse(prediction, verbose = False))}\n",
    "rank_coeff = {'Baseline': round_float(metrics.kendall_rank_coeff(baseline_model, X_test, y_test, total_users)),\n",
    "              'MF': round_float(metrics.kendall_rank_coeff(mf_model, X_test, y_test, total_users)), \n",
    "              'NM': round_float(metrics.kendall_rank_coeff_vectors(X_test, nm_prediction, y_test, total_users))}\n",
    "coverage = {'Baseline': round_float(metrics.coverage(baseline_model, X_test, total_users, total_items)),\n",
    "              'MF': round_float(metrics.coverage(mf_model, X_test, total_users, total_items)), \n",
    "              'NM': round_float(metrics.coverage_surprise(nm, X_test, y_test, total_users, total_items))}\n"
   ]
  },
  {
   "cell_type": "code",
   "execution_count": 49,
   "metadata": {},
   "outputs": [],
   "source": [
    "utils.print_table(rmse, rank_coeff, coverage)"
   ]
  },
  {
   "cell_type": "markdown",
   "metadata": {},
   "source": [
    "<html><body><table><tr><td><b>Algorithms</b></td><td><b>RMSE</b></td><td><b>Kendall rank</b></td><td><b>Coverage</b></td></tr><tr><td>Baseline</td><td>0.924</td><td>0.283</td><td>0.499</td></tr><tr><td>Matrix Factorization</td><td>0.862</td><td>0.288</td><td>0.501</td></tr><tr><td>User-based NM</td><td>0.936</td><td>0.187</td><td>0.237</td></tr></table></body></html>"
   ]
  },
  {
   "cell_type": "markdown",
   "metadata": {},
   "source": [
    "**Analysis of Results**\n",
    "\n",
    "***RMSE***\n",
    "\n",
    "Matrix factorization performs significantly better than its two counterparts. User-based collaborative filtering has higher RMSE than the baseline. This greatly decreases our confidence in the ability of this model to bring something new to the table and relevant recommendations. \n",
    "\n",
    "***Rank coefficient***\n",
    "\n",
    "Matrix factorization perforns slightly better than the baseline with regards to rank. User-based collaborative filtering performs rather poorly, as it ranks much less efficiently with regard to this metric than the baseline.\n",
    "\n",
    "Absolute values are quite low and reflect the numerous ties that appeared in the data and reduced the kendall coefficient for many users before averaging.\n",
    "\n",
    "***Coverage***\n",
    "\n",
    "Matrix factorization and the baseline algorithms have similar coverage. They recommend approximately half of the movies - which is quite a large portion. What made this possible was the size of the data. We believe this wouldn't have been the case if we had applied the same algorithms to much larger datasets sampled from the full MovieLens data because of the **long-tail effect**. We haven't addressed this issue because it didn't matter as much on the data we had, but as the samples get bigger, the tail becomes more apparent. This results in popular movies being over-represented in recommendations, and can significantly reduce coverage.\n",
    "\n",
    "***A comment on comparison between the baseline and matrix factorization***\n",
    "\n",
    "It is important to remember that matrix factorization builds on the baseline: the baseline is nested in matrix factorization. Although matrix factorization learns the biases with gradient descent rather than directly computing it,  if the gd converges properly, it contains all the baseline information. \n",
    "\n",
    "It is not surprising that matrix factorization performs better than the baseline as the risk of overfitting was unlikely - with parameters that don't allow for too long a training (`n_epochs = 20`) or too complex a model (`n_factors = 10`). The factorization part of the prediction calibrate the biases to get closer to the actual ratings and add more accuracy, while also accounting for the user and item biases. The gain in accuracy is probably very small for each rating (high regularization parameter `lambd = 0.9`), big enough so that the RMSE can be significantly improved but small enough so that the ranking of movies by user is not fundamentally changed compared to the baseline, explaining the very close values for Kendall rank coefficient.\n",
    "\n",
    "***Additional Comments - Possible explanations for the results***\n",
    "\n",
    "Overall, user-based collaborative filtering performs rather poorly in comparison to the two other algorithms.\n",
    "User-based neighborhood is a risky approach. The advantage of the item-based approach is that item similarity is more stable and can be efficiently pre-computed than in a business where there are a lot of incoming users.\n",
    "Also, a recommender system based on nearest neighbor algorithms may be **unable to make any item recommendations for a particular user**. This stems from the fact that, for a user to be considered as a potential neighbor of another, they need to have at least one common rating. In a sparse context, we don't always have such a user for every user. As a result the accuracy of recommendations can be poor. \n",
    "\n",
    "Another factor contributing to poor accuracy is the choice of `k`. If `k` is too small, recommendations may be too grossly estimated, and give too much impact to the closest users. Conversely if `k` is too large, recommendations can become very noisy and be based on users that have poor similarity with one another. \n",
    "Even though we tuned this parameter, it is possible we skipped optimal values of `k` or that the data was such that for all values of k, a significant number of users did not rip benefits from being influenced by `k` other users.\n",
    "\n",
    "Other advatanges of matrix factorization are thart it is widely used for its **scalability**, and its ability to handle sparse datasets, precisely by reducing the feature-space to a smaller, lower-dimensional latent feature-space.\n",
    "Furthermore, since each user factor can be calculated independently of each other, this algorithm is embarrassingly **parallel** and well suited to multithreading. So, the possibility of always incorporating more users in the data makes it tempting to use matrix factorization to recommend movies to them.\n"
   ]
  },
  {
   "cell_type": "markdown",
   "metadata": {},
   "source": [
    "<a id='14'></a>\n",
    "### Our decision\n",
    "___\n"
   ]
  },
  {
   "cell_type": "markdown",
   "metadata": {},
   "source": [
    "We reject the user-based collaborative filtering model as it didn't not perform better than the baseline we implemented and we have no simple way to improve its accuracy that we believe sufficient to outperform the baseline.\n",
    "\n",
    "As matrix factorization performs significantly better in terms of prediction accuracy, and a better in terms of ranking than the baseline we recommend deploying it. \n",
    "\n",
    "It has other attractive qualities that motivate our decision among which scalability with the possibility of parallelism. We expect coverage to decrease as the data grows and we recommend modifying the algorithm by tackling the long-tail effect before scaling.\n",
    "\n"
   ]
  }
 ],
 "metadata": {
  "colab": {
   "collapsed_sections": [],
   "name": "Personalization.ipynb",
   "provenance": [],
   "version": "0.3.2"
  },
  "kernelspec": {
   "display_name": "Python 3",
   "language": "python",
   "name": "python3"
  },
  "language_info": {
   "codemirror_mode": {
    "name": "ipython",
    "version": 3
   },
   "file_extension": ".py",
   "mimetype": "text/x-python",
   "name": "python",
   "nbconvert_exporter": "python",
   "pygments_lexer": "ipython3",
   "version": "3.6.6"
  }
 },
 "nbformat": 4,
 "nbformat_minor": 1
}
