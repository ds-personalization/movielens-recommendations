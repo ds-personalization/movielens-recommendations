{
 "cells": [
  {
   "cell_type": "markdown",
   "metadata": {},
   "source": [
    "## Preparing the data for recommendation"
   ]
  },
  {
   "cell_type": "markdown",
   "metadata": {},
   "source": [
    "**The purpose of this part of the project is to select a smaller dataset from the full dataset. It is not meant to be re-run as it was used just once to generate the small dataset**"
   ]
  },
  {
   "cell_type": "markdown",
   "metadata": {},
   "source": [
    "The functions called in this sections can be found in the `preprocessing.py` and `utils.py` files in the lib folder"
   ]
  },
  {
   "cell_type": "code",
   "execution_count": 1,
   "metadata": {},
   "outputs": [],
   "source": [
    "from lib import preprocessing as prepro\n",
    "from lib import utils"
   ]
  },
  {
   "cell_type": "markdown",
   "metadata": {
    "colab_type": "text",
    "id": "EWBjXTXBddbF"
   },
   "source": [
    "### Loading the full data"
   ]
  },
  {
   "cell_type": "markdown",
   "metadata": {
    "colab_type": "text",
    "id": "yQUjGFDP72ww"
   },
   "source": [
    "Before anything else, let us load the dataset"
   ]
  },
  {
   "cell_type": "code",
   "execution_count": 2,
   "metadata": {
    "colab": {
     "base_uri": "https://localhost:8080/",
     "height": 911
    },
    "colab_type": "code",
    "id": "3OVsRgn0-Zs9",
    "outputId": "f10f875b-64c7-42ca-a7bc-009f15fc4b33"
   },
   "outputs": [],
   "source": [
    "ratings = prepro.load_data('ratings.csv')"
   ]
  },
  {
   "cell_type": "markdown",
   "metadata": {
    "colab_type": "text",
    "id": "58mkboKA_-VC"
   },
   "source": [
    "Let's take a quick look at how the data is stored in the `DataFrame`:"
   ]
  },
  {
   "cell_type": "code",
   "execution_count": 3,
   "metadata": {
    "colab": {},
    "colab_type": "code",
    "id": "-BpuWU6V_Uq9"
   },
   "outputs": [
    {
     "data": {
      "text/html": [
       "<div>\n",
       "<style scoped>\n",
       "    .dataframe tbody tr th:only-of-type {\n",
       "        vertical-align: middle;\n",
       "    }\n",
       "\n",
       "    .dataframe tbody tr th {\n",
       "        vertical-align: top;\n",
       "    }\n",
       "\n",
       "    .dataframe thead th {\n",
       "        text-align: right;\n",
       "    }\n",
       "</style>\n",
       "<table border=\"1\" class=\"dataframe\">\n",
       "  <thead>\n",
       "    <tr style=\"text-align: right;\">\n",
       "      <th></th>\n",
       "      <th>user</th>\n",
       "      <th>item</th>\n",
       "      <th>rating</th>\n",
       "    </tr>\n",
       "  </thead>\n",
       "  <tbody>\n",
       "    <tr>\n",
       "      <th>0</th>\n",
       "      <td>1</td>\n",
       "      <td>307</td>\n",
       "      <td>3.5</td>\n",
       "    </tr>\n",
       "    <tr>\n",
       "      <th>1</th>\n",
       "      <td>1</td>\n",
       "      <td>481</td>\n",
       "      <td>3.5</td>\n",
       "    </tr>\n",
       "    <tr>\n",
       "      <th>2</th>\n",
       "      <td>1</td>\n",
       "      <td>1091</td>\n",
       "      <td>1.5</td>\n",
       "    </tr>\n",
       "    <tr>\n",
       "      <th>3</th>\n",
       "      <td>1</td>\n",
       "      <td>1257</td>\n",
       "      <td>4.5</td>\n",
       "    </tr>\n",
       "    <tr>\n",
       "      <th>4</th>\n",
       "      <td>1</td>\n",
       "      <td>1449</td>\n",
       "      <td>4.5</td>\n",
       "    </tr>\n",
       "  </tbody>\n",
       "</table>\n",
       "</div>"
      ],
      "text/plain": [
       "   user  item  rating\n",
       "0     1   307     3.5\n",
       "1     1   481     3.5\n",
       "2     1  1091     1.5\n",
       "3     1  1257     4.5\n",
       "4     1  1449     4.5"
      ]
     },
     "execution_count": 3,
     "metadata": {},
     "output_type": "execute_result"
    }
   ],
   "source": [
    "ratings.head()"
   ]
  },
  {
   "cell_type": "markdown",
   "metadata": {
    "colab_type": "text",
    "id": "dTCL5Kz2AFJn"
   },
   "source": [
    "The dataset is constructed as follow :\n",
    "  - **user** : unique ID of the user\n",
    "  - **item** : unique ID of the movie\n",
    "  - **rating** : 1-5 rating of the item\n"
   ]
  },
  {
   "cell_type": "markdown",
   "metadata": {
    "colab_type": "text",
    "id": "0lohaeeHz_NN"
   },
   "source": [
    "Now that the data is in a proper format, we move on to exploring it a bit and generating the smaller dataset to work with."
   ]
  },
  {
   "cell_type": "markdown",
   "metadata": {
    "colab_type": "text",
    "id": "1lVMZkl7AK5Q"
   },
   "source": [
    "### Generating the smaller dataset we are going to work with"
   ]
  },
  {
   "cell_type": "markdown",
   "metadata": {
    "colab_type": "text",
    "id": "5bAGD_3i1Kg_"
   },
   "source": [
    "As a first step to generate our smaller dataset we will filter out users and items from the full data. In order to so, we need to find thresholds that distinguish candidates from non-candidates to appear in the final dataset, based on the count of ratings they have (both items and users)."
   ]
  },
  {
   "cell_type": "markdown",
   "metadata": {
    "colab_type": "text",
    "id": "h1PEgwL1A2aH"
   },
   "source": [
    "Let us first explore the data a bit to get an idea of the **sparsity of the ratings matrix** and its **relative dimensions**. \n",
    "\n",
    "Let us take a look at the number of ratings we have:"
   ]
  },
  {
   "cell_type": "code",
   "execution_count": 4,
   "metadata": {
    "colab": {},
    "colab_type": "code",
    "id": "Iret_95-AtcL"
   },
   "outputs": [
    {
     "data": {
      "text/plain": [
       "27753444"
      ]
     },
     "execution_count": 4,
     "metadata": {},
     "output_type": "execute_result"
    }
   ],
   "source": [
    "total_ratings = utils.total_ratings(ratings)\n",
    "total_ratings"
   ]
  },
  {
   "cell_type": "markdown",
   "metadata": {
    "colab_type": "text",
    "id": "XIOFPl2KA1ml"
   },
   "source": [
    "We have around **27 M ratings** as documented. Let's see how many users and how many items are recorded:"
   ]
  },
  {
   "cell_type": "code",
   "execution_count": 5,
   "metadata": {
    "colab": {},
    "colab_type": "code",
    "id": "tasBIyDDByG6"
   },
   "outputs": [
    {
     "data": {
      "text/plain": [
       "283228"
      ]
     },
     "execution_count": 5,
     "metadata": {},
     "output_type": "execute_result"
    }
   ],
   "source": [
    "total_users = utils.unique_users(ratings)\n",
    "total_users"
   ]
  },
  {
   "cell_type": "code",
   "execution_count": 6,
   "metadata": {
    "colab": {},
    "colab_type": "code",
    "id": "k2z9Lr16KF42"
   },
   "outputs": [
    {
     "data": {
      "text/plain": [
       "53889"
      ]
     },
     "execution_count": 6,
     "metadata": {},
     "output_type": "execute_result"
    }
   ],
   "source": [
    "total_items = utils.unique_movies(ratings)\n",
    "total_items"
   ]
  },
  {
   "cell_type": "markdown",
   "metadata": {
    "colab_type": "text",
    "id": "7KtTCXEIKRzo"
   },
   "source": [
    "The ratio of number of item to number of users is:"
   ]
  },
  {
   "cell_type": "code",
   "execution_count": 7,
   "metadata": {
    "colab": {},
    "colab_type": "code",
    "id": "pvQgVHPGfStK"
   },
   "outputs": [
    {
     "data": {
      "text/plain": [
       "0.1902672052198229"
      ]
     },
     "execution_count": 7,
     "metadata": {},
     "output_type": "execute_result"
    }
   ],
   "source": [
    "ratio = utils.shape_matrix_index(ratings)\n",
    "ratio"
   ]
  },
  {
   "cell_type": "markdown",
   "metadata": {
    "colab_type": "text",
    "id": "8UdgrN_pgCxa"
   },
   "source": [
    "Assuming users are row of our matrix and movies are column: the ratings matrix is rather thin but not outrageously so. There are approximately as many movies as a fifth of the number of users.\n",
    "\n",
    "A **coarse measure of the sparsity** of the matrix is:"
   ]
  },
  {
   "cell_type": "code",
   "execution_count": 8,
   "metadata": {
    "colab": {},
    "colab_type": "code",
    "id": "2tiEBS3HfSul"
   },
   "outputs": [
    {
     "data": {
      "text/plain": [
       "0.9981816370521007"
      ]
     },
     "execution_count": 8,
     "metadata": {},
     "output_type": "execute_result"
    }
   ],
   "source": [
    "sparsity = utils.sparsity_index(ratings)\n",
    "sparsity"
   ]
  },
  {
   "cell_type": "markdown",
   "metadata": {
    "colab_type": "text",
    "id": "zLd9vNn4gept"
   },
   "source": [
    "Its value is very close to $1$. The matrix is therefore **extremely sparse**.\n",
    "\n",
    "\n"
   ]
  },
  {
   "cell_type": "markdown",
   "metadata": {
    "colab_type": "text",
    "id": "zRq0Dxcrd5ll"
   },
   "source": [
    "#### Exploring the item distribution and sampling items"
   ]
  },
  {
   "cell_type": "markdown",
   "metadata": {
    "colab_type": "text",
    "id": "ZIslTbdpg0Mg"
   },
   "source": [
    "Let us now look at the **distribution of number of ratings per item** to learn more about the data at hand."
   ]
  },
  {
   "cell_type": "code",
   "execution_count": 9,
   "metadata": {
    "colab": {},
    "colab_type": "code",
    "id": "srH_WsdCCHl7"
   },
   "outputs": [],
   "source": [
    "ratings_per_item = prepro.count_ratings(ratings, \"item\")"
   ]
  },
  {
   "cell_type": "code",
   "execution_count": 10,
   "metadata": {
    "colab": {},
    "colab_type": "code",
    "id": "U1lShcO-FzdL"
   },
   "outputs": [
    {
     "data": {
      "text/plain": [
       "<matplotlib.axes._subplots.AxesSubplot at 0x1178a4e48>"
      ]
     },
     "execution_count": 10,
     "metadata": {},
     "output_type": "execute_result"
    }
   ],
   "source": [
    "ratings_per_item.hist(bins = [i for i in range(0,100)])"
   ]
  },
  {
   "cell_type": "markdown",
   "metadata": {
    "colab_type": "text",
    "id": "sxlIrDSDhFJw"
   },
   "source": [
    "As expected, we have a **long tail distribution**. We might have to adapt our evaluation metrics to account for this property and not promote popular content indiscrimately too systematically.\n",
    "\n",
    "Let us now sample the items we will consider - we sample more than 1000 items because we anticipate a lot items will disappear from the matrix when we filter on users, discarding all users that have rated some movies; especially because of so many movies have a small number of ratings :\n"
   ]
  },
  {
   "cell_type": "code",
   "execution_count": 11,
   "metadata": {
    "colab": {},
    "colab_type": "code",
    "id": "5IPLSdXIha7M"
   },
   "outputs": [],
   "source": [
    "ratings = prepro.sampling_data(ratings, \"item\", 1600, random_state = 0)"
   ]
  },
  {
   "cell_type": "markdown",
   "metadata": {},
   "source": [
    "Now loooking at the distribution of the sampled items:"
   ]
  },
  {
   "cell_type": "code",
   "execution_count": 12,
   "metadata": {},
   "outputs": [
    {
     "data": {
      "text/plain": [
       "<matplotlib.axes._subplots.AxesSubplot at 0x117ae90f0>"
      ]
     },
     "execution_count": 12,
     "metadata": {},
     "output_type": "execute_result"
    },
    {
     "data": {
      "image/png": "[encoded data removed]",
      "text/plain": [
       "<Figure size 432x288 with 1 Axes>"
      ]
     },
     "metadata": {
      "needs_background": "light"
     },
     "output_type": "display_data"
    }
   ],
   "source": [
    "ratings_per_item = prepro.count_ratings(ratings, \"item\")\n",
    "ratings_per_item.hist(bins = [i for i in range(0,100)])"
   ]
  },
  {
   "cell_type": "markdown",
   "metadata": {},
   "source": [
    "We have a similar long-tailed distribution, much more noisy due to the small number of items we kept."
   ]
  },
  {
   "cell_type": "markdown",
   "metadata": {
    "colab_type": "text",
    "id": "KvmACTXlRezL"
   },
   "source": [
    "#### Choosing the threshold $user\\_min\\_rating$ and removing users with very little ratings"
   ]
  },
  {
   "cell_type": "markdown",
   "metadata": {
    "colab_type": "text",
    "id": "_0VaXBRw-kWO"
   },
   "source": [
    "Let us now find a suitable $user\\_min\\_ratings$ and filter out the already-filtered data based on that thresholds on users.\n",
    "\n",
    "**We will choose $user\\_min\\_ratings$ according to the following heuristic: choose the threshold such that there are around $100,000$ users that have rated at least $user\\_min\\_ratings$ movies.** To obtain the $10,000$ users we will have in the final small dataset we will then have to sample from those $100,000$ users, choosing $4\\%$ of the candidates."
   ]
  },
  {
   "cell_type": "markdown",
   "metadata": {
    "colab_type": "text",
    "id": "pEcr-ZGCj8RT"
   },
   "source": [
    "Now let's take a look at the user distribution on our filtered data:"
   ]
  },
  {
   "cell_type": "code",
   "execution_count": 13,
   "metadata": {
    "colab": {},
    "colab_type": "code",
    "id": "FIMUPvlYQVFy"
   },
   "outputs": [
    {
     "data": {
      "text/plain": [
       "<matplotlib.axes._subplots.AxesSubplot at 0x117b28668>"
      ]
     },
     "execution_count": 13,
     "metadata": {},
     "output_type": "execute_result"
    },
    {
     "data": {
      "image/png": "[encoded data removed]",
      "text/plain": [
       "<Figure size 432x288 with 1 Axes>"
      ]
     },
     "metadata": {
      "needs_background": "light"
     },
     "output_type": "display_data"
    }
   ],
   "source": [
    "ratings_per_user = prepro.count_ratings(ratings, \"user\")\n",
    "ratings_per_user.hist(bins = [i for i in range(0,35)])"
   ]
  },
  {
   "cell_type": "markdown",
   "metadata": {
    "colab_type": "text",
    "id": "XBNk3DC_WDYH"
   },
   "source": [
    "Again, a long-tail distribution with a large proportion of users with only one rating.\n",
    "\n",
    "Let us find the threshold of ratings we will select to obtain near 100,000 user candidates:"
   ]
  },
  {
   "cell_type": "code",
   "execution_count": 14,
   "metadata": {
    "colab": {},
    "colab_type": "code",
    "id": "sNiMfYFJThHG"
   },
   "outputs": [],
   "source": [
    "user_min_ratings, total_candidates = prepro.find_min_ratings(ratings_per_user, 100000)"
   ]
  },
  {
   "cell_type": "code",
   "execution_count": 15,
   "metadata": {},
   "outputs": [
    {
     "data": {
      "text/plain": [
       "(3.0, 104432)"
      ]
     },
     "execution_count": 15,
     "metadata": {},
     "output_type": "execute_result"
    }
   ],
   "source": [
    "user_min_ratings, total_candidates"
   ]
  },
  {
   "cell_type": "markdown",
   "metadata": {},
   "source": [
    "**We will consider users that have rated at least 3 movies to sample from.** We ended up with approximately 103,000 candidates to sample from."
   ]
  },
  {
   "cell_type": "code",
   "execution_count": 16,
   "metadata": {},
   "outputs": [],
   "source": [
    "filtered_dataset, real = prepro.filter_element(ratings, \"user\", total_candidates)"
   ]
  },
  {
   "cell_type": "code",
   "execution_count": 17,
   "metadata": {},
   "outputs": [],
   "source": [
    "final_dataset = prepro.sampling_data(filtered_dataset, \"user\", 10000, random_state = 0)"
   ]
  },
  {
   "cell_type": "markdown",
   "metadata": {},
   "source": [
    "We write our final dataset to a `ratings_small.csv` file to use the same data during the development phase of the project.\n"
   ]
  },
  {
   "cell_type": "code",
   "execution_count": 22,
   "metadata": {},
   "outputs": [],
   "source": [
    "final_dataset.to_csv('ratings_small.csv', index = False)"
   ]
  }
 ],
 "metadata": {
  "kernelspec": {
   "display_name": "Python 3",
   "language": "python",
   "name": "python3"
  },
  "language_info": {
   "codemirror_mode": {
    "name": "ipython",
    "version": 3
   },
   "file_extension": ".py",
   "mimetype": "text/x-python",
   "name": "python",
   "nbconvert_exporter": "python",
   "pygments_lexer": "ipython3",
   "version": "3.6.6"
  }
 },
 "nbformat": 4,
 "nbformat_minor": 2
}
