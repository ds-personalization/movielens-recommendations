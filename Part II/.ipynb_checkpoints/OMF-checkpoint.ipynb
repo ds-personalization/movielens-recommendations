{
 "cells": [
  {
   "cell_type": "markdown",
   "metadata": {},
   "source": [
    "# OMF : Occurence Matrix Factorization\n",
    "\n",
    "This method builds on the MEMF method. \n",
    "However, the weight given to each cluster will not be uniform.\n",
    "\n",
    "Indeed, when a genre is rarely given, it means that it is more precise and selective. We should therefore give more importance to the rare genre. \n",
    "\n",
    "Let us assume that a movie belongs to three genres:\n",
    "\n",
    "- Adventure : 4067 movies in that category\n",
    "- IMAX : 197 movies in that category\n",
    "- Action : 7130 movies in that category\n",
    "\n",
    "Therefore, the IMAX component of the prediction is likely more relevant since it is more specific. \n",
    "\n",
    "The weights we come up to must sum to one and be positive and reflect this idea.\n",
    "\n",
    "w_i = exp(-n_i) / (sum(over j)exp(-n_j))"
   ]
  },
  {
   "cell_type": "code",
   "execution_count": 1,
   "metadata": {},
   "outputs": [],
   "source": [
    "from lib import MEMF\n",
    "from lib import MF\n",
    "from lib import utils\n",
    "from lib import preprocessing as prepro"
   ]
  },
  {
   "cell_type": "code",
   "execution_count": 2,
   "metadata": {},
   "outputs": [],
   "source": [
    "import pandas as pd\n",
    "import numpy as np\n",
    "from sklearn.model_selection import train_test_split"
   ]
  },
  {
   "cell_type": "code",
   "execution_count": 3,
   "metadata": {},
   "outputs": [],
   "source": [
    "ratings = pd.read_csv('../ml-latest/ratings_small.csv')"
   ]
  },
  {
   "cell_type": "code",
   "execution_count": 4,
   "metadata": {},
   "outputs": [
    {
     "data": {
      "text/html": [
       "<div>\n",
       "<style scoped>\n",
       "    .dataframe tbody tr th:only-of-type {\n",
       "        vertical-align: middle;\n",
       "    }\n",
       "\n",
       "    .dataframe tbody tr th {\n",
       "        vertical-align: top;\n",
       "    }\n",
       "\n",
       "    .dataframe thead th {\n",
       "        text-align: right;\n",
       "    }\n",
       "</style>\n",
       "<table border=\"1\" class=\"dataframe\">\n",
       "  <thead>\n",
       "    <tr style=\"text-align: right;\">\n",
       "      <th></th>\n",
       "      <th>user</th>\n",
       "      <th>item</th>\n",
       "      <th>rating</th>\n",
       "    </tr>\n",
       "  </thead>\n",
       "  <tbody>\n",
       "    <tr>\n",
       "      <th>0</th>\n",
       "      <td>18</td>\n",
       "      <td>6</td>\n",
       "      <td>3.0</td>\n",
       "    </tr>\n",
       "    <tr>\n",
       "      <th>1</th>\n",
       "      <td>18</td>\n",
       "      <td>21</td>\n",
       "      <td>3.0</td>\n",
       "    </tr>\n",
       "    <tr>\n",
       "      <th>2</th>\n",
       "      <td>18</td>\n",
       "      <td>161</td>\n",
       "      <td>4.0</td>\n",
       "    </tr>\n",
       "    <tr>\n",
       "      <th>3</th>\n",
       "      <td>18</td>\n",
       "      <td>216</td>\n",
       "      <td>3.0</td>\n",
       "    </tr>\n",
       "    <tr>\n",
       "      <th>4</th>\n",
       "      <td>18</td>\n",
       "      <td>230</td>\n",
       "      <td>4.0</td>\n",
       "    </tr>\n",
       "  </tbody>\n",
       "</table>\n",
       "</div>"
      ],
      "text/plain": [
       "   user  item  rating\n",
       "0    18     6     3.0\n",
       "1    18    21     3.0\n",
       "2    18   161     4.0\n",
       "3    18   216     3.0\n",
       "4    18   230     4.0"
      ]
     },
     "execution_count": 4,
     "metadata": {},
     "output_type": "execute_result"
    }
   ],
   "source": [
    "ratings.head()"
   ]
  },
  {
   "cell_type": "code",
   "execution_count": 5,
   "metadata": {},
   "outputs": [],
   "source": [
    "hashed_ratings = utils.hash_data(ratings)"
   ]
  },
  {
   "cell_type": "code",
   "execution_count": 6,
   "metadata": {},
   "outputs": [],
   "source": [
    "t, reduced_ratings = prepro.separate_items_with_few_ratings(1, hashed_ratings)"
   ]
  },
  {
   "cell_type": "code",
   "execution_count": 7,
   "metadata": {},
   "outputs": [],
   "source": [
    "X_train, X_test,_,_ = train_test_split(reduced_ratings, \n",
    "                                       reduced_ratings['item'], \n",
    "                                       test_size = 0.15, \n",
    "                                       stratify = reduced_ratings['item'],\n",
    "                                       random_state = 596)"
   ]
  },
  {
   "cell_type": "code",
   "execution_count": 8,
   "metadata": {},
   "outputs": [],
   "source": [
    "X_train = pd.concat([t, X_train])"
   ]
  },
  {
   "cell_type": "code",
   "execution_count": 9,
   "metadata": {},
   "outputs": [
    {
     "data": {
      "text/html": [
       "<div>\n",
       "<style scoped>\n",
       "    .dataframe tbody tr th:only-of-type {\n",
       "        vertical-align: middle;\n",
       "    }\n",
       "\n",
       "    .dataframe tbody tr th {\n",
       "        vertical-align: top;\n",
       "    }\n",
       "\n",
       "    .dataframe thead th {\n",
       "        text-align: right;\n",
       "    }\n",
       "</style>\n",
       "<table border=\"1\" class=\"dataframe\">\n",
       "  <thead>\n",
       "    <tr style=\"text-align: right;\">\n",
       "      <th></th>\n",
       "      <th>old_user</th>\n",
       "      <th>old_item</th>\n",
       "      <th>user</th>\n",
       "      <th>item</th>\n",
       "      <th>rating</th>\n",
       "    </tr>\n",
       "  </thead>\n",
       "  <tbody>\n",
       "    <tr>\n",
       "      <th>2212</th>\n",
       "      <td>7026</td>\n",
       "      <td>590</td>\n",
       "      <td>254</td>\n",
       "      <td>24</td>\n",
       "      <td>4.0</td>\n",
       "    </tr>\n",
       "    <tr>\n",
       "      <th>2213</th>\n",
       "      <td>7026</td>\n",
       "      <td>592</td>\n",
       "      <td>254</td>\n",
       "      <td>25</td>\n",
       "      <td>3.0</td>\n",
       "    </tr>\n",
       "    <tr>\n",
       "      <th>2211</th>\n",
       "      <td>7026</td>\n",
       "      <td>161</td>\n",
       "      <td>254</td>\n",
       "      <td>6</td>\n",
       "      <td>5.0</td>\n",
       "    </tr>\n",
       "  </tbody>\n",
       "</table>\n",
       "</div>"
      ],
      "text/plain": [
       "      old_user  old_item  user  item  rating\n",
       "2212      7026       590   254    24     4.0\n",
       "2213      7026       592   254    25     3.0\n",
       "2211      7026       161   254     6     5.0"
      ]
     },
     "execution_count": 9,
     "metadata": {},
     "output_type": "execute_result"
    }
   ],
   "source": [
    "X_test[-X_test['user'].isin(X_train['user'].unique())]"
   ]
  },
  {
   "cell_type": "code",
   "execution_count": 10,
   "metadata": {},
   "outputs": [],
   "source": [
    "X_train = pd.concat([pd.DataFrame({'old_user' : [7026], 'old_item' : [590],\n",
    "                                   'user': [254], 'item' : [24], \n",
    "                                   'rating' : [4.0]}), X_train], \n",
    "                    ignore_index = True)\n",
    "X_test = X_test[-(np.logical_and(X_test['user'] == 254, X_test['item'] == 24))]"
   ]
  },
  {
   "cell_type": "code",
   "execution_count": 11,
   "metadata": {},
   "outputs": [],
   "source": [
    "y_train = X_train['rating']\n",
    "y_test = X_test['rating']\n",
    "X_train = X_train.drop('rating', axis = 1)\n",
    "X_test = X_test.drop('rating', axis = 1)"
   ]
  },
  {
   "cell_type": "code",
   "execution_count": 12,
   "metadata": {},
   "outputs": [
    {
     "data": {
      "text/html": [
       "<div>\n",
       "<style scoped>\n",
       "    .dataframe tbody tr th:only-of-type {\n",
       "        vertical-align: middle;\n",
       "    }\n",
       "\n",
       "    .dataframe tbody tr th {\n",
       "        vertical-align: top;\n",
       "    }\n",
       "\n",
       "    .dataframe thead th {\n",
       "        text-align: right;\n",
       "    }\n",
       "</style>\n",
       "<table border=\"1\" class=\"dataframe\">\n",
       "  <thead>\n",
       "    <tr style=\"text-align: right;\">\n",
       "      <th></th>\n",
       "      <th>old_user</th>\n",
       "      <th>old_item</th>\n",
       "      <th>user</th>\n",
       "      <th>item</th>\n",
       "    </tr>\n",
       "  </thead>\n",
       "  <tbody>\n",
       "    <tr>\n",
       "      <th>0</th>\n",
       "      <td>7026</td>\n",
       "      <td>590</td>\n",
       "      <td>254</td>\n",
       "      <td>24</td>\n",
       "    </tr>\n",
       "    <tr>\n",
       "      <th>1</th>\n",
       "      <td>1507</td>\n",
       "      <td>138940</td>\n",
       "      <td>67</td>\n",
       "      <td>681</td>\n",
       "    </tr>\n",
       "    <tr>\n",
       "      <th>2</th>\n",
       "      <td>1832</td>\n",
       "      <td>172803</td>\n",
       "      <td>75</td>\n",
       "      <td>818</td>\n",
       "    </tr>\n",
       "    <tr>\n",
       "      <th>3</th>\n",
       "      <td>1832</td>\n",
       "      <td>183565</td>\n",
       "      <td>75</td>\n",
       "      <td>855</td>\n",
       "    </tr>\n",
       "    <tr>\n",
       "      <th>4</th>\n",
       "      <td>6884</td>\n",
       "      <td>138544</td>\n",
       "      <td>248</td>\n",
       "      <td>679</td>\n",
       "    </tr>\n",
       "  </tbody>\n",
       "</table>\n",
       "</div>"
      ],
      "text/plain": [
       "   old_user  old_item  user  item\n",
       "0      7026       590   254    24\n",
       "1      1507    138940    67   681\n",
       "2      1832    172803    75   818\n",
       "3      1832    183565    75   855\n",
       "4      6884    138544   248   679"
      ]
     },
     "execution_count": 12,
     "metadata": {},
     "output_type": "execute_result"
    }
   ],
   "source": [
    "X_train.head()"
   ]
  },
  {
   "cell_type": "code",
   "execution_count": 13,
   "metadata": {},
   "outputs": [],
   "source": [
    "movie_file = \"../ml-latest/clean_movies.csv\""
   ]
  },
  {
   "cell_type": "code",
   "execution_count": 14,
   "metadata": {},
   "outputs": [],
   "source": [
    "OMF = MEMF.OMF(movie_file)"
   ]
  },
  {
   "cell_type": "code",
   "execution_count": 15,
   "metadata": {},
   "outputs": [
    {
     "name": "stdout",
     "output_type": "stream",
     "text": [
      "Number of Clusters: 20\n"
     ]
    }
   ],
   "source": [
    "OMF.define_clusters()"
   ]
  },
  {
   "cell_type": "code",
   "execution_count": 16,
   "metadata": {},
   "outputs": [
    {
     "name": "stdout",
     "output_type": "stream",
     "text": [
      "4067\n",
      "2663\n",
      "2749\n",
      "15956\n",
      "2637\n",
      "7412\n",
      "24144\n",
      "7130\n",
      "5105\n",
      "8216\n",
      "5555\n",
      "2773\n",
      "3444\n",
      "197\n",
      "5118\n",
      "1820\n",
      "1113\n",
      "1378\n",
      "364\n",
      "4266\n"
     ]
    }
   ],
   "source": [
    "for cluster in OMF.clusters.keys():\n",
    "    print(OMF.clusters[cluster].size)"
   ]
  },
  {
   "cell_type": "code",
   "execution_count": 17,
   "metadata": {},
   "outputs": [
    {
     "name": "stderr",
     "output_type": "stream",
     "text": [
      "100%|██████████| 58098/58098 [01:07<00:00, 854.65it/s] \n"
     ]
    }
   ],
   "source": [
    "OMF.compute_membership()"
   ]
  },
  {
   "cell_type": "code",
   "execution_count": 18,
   "metadata": {},
   "outputs": [
    {
     "name": "stdout",
     "output_type": "stream",
     "text": [
      "1\n",
      "{'Adventure': 0.2088491840113339, 'Animation': 0.22135405475757444, 'Children': 0.22056700267927745, 'Comedy': 0.12763720539519993, 'Fantasy': 0.22159255315661416}\n",
      "2\n",
      "{'Adventure': 0.32080857172569643, 'Children': 0.33880805153405263, 'Fantasy': 0.34038337674025093}\n",
      "3\n",
      "{'Comedy': 0.412442638587691, 'Romance': 0.5875573614123091}\n",
      "4\n",
      "{'Comedy': 0.3187791444554087, 'Drama': 0.22709459539151916, 'Romance': 0.45412626015307217}\n",
      "5\n",
      "{'Comedy': 1.0}\n",
      "6\n",
      "{'Action': 0.3285684421783355, 'Crime': 0.35731470968367096, 'Thriller': 0.31411684813799357}\n"
     ]
    }
   ],
   "source": [
    "count = 0\n",
    "for movie in OMF.membership.keys():\n",
    "    print(movie)\n",
    "    print(OMF.membership[movie])\n",
    "    count = count + 1\n",
    "    if count == 6:\n",
    "        break"
   ]
  },
  {
   "cell_type": "code",
   "execution_count": 19,
   "metadata": {},
   "outputs": [
    {
     "name": "stdout",
     "output_type": "stream",
     "text": [
      "Adventure matrix factorization is over\n",
      "Animation matrix factorization is over\n",
      "Children matrix factorization is over\n",
      "Comedy matrix factorization is over\n",
      "Fantasy matrix factorization is over\n",
      "Romance matrix factorization is over\n",
      "Drama matrix factorization is over\n",
      "Action matrix factorization is over\n",
      "Crime matrix factorization is over\n",
      "Thriller matrix factorization is over\n",
      "Horror matrix factorization is over\n",
      "Mystery matrix factorization is over\n",
      "Sci-Fi matrix factorization is over\n",
      "IMAX matrix factorization is over\n",
      "Documentary matrix factorization is over\n",
      "War matrix factorization is over\n",
      "Musical matrix factorization is over\n",
      "Western matrix factorization is over\n",
      "Film-Noir matrix factorization is over\n",
      "(no genres listed) matrix factorization is over\n"
     ]
    }
   ],
   "source": [
    "OMF.fit(X_train, y_train.values)"
   ]
  },
  {
   "cell_type": "code",
   "execution_count": 20,
   "metadata": {},
   "outputs": [
    {
     "name": "stderr",
     "output_type": "stream",
     "text": [
      "100%|██████████| 75774/75774 [05:40<00:00, 222.69it/s]\n"
     ]
    }
   ],
   "source": [
    "OMF.predict(X_train)"
   ]
  },
  {
   "cell_type": "code",
   "execution_count": 21,
   "metadata": {},
   "outputs": [
    {
     "data": {
      "text/plain": [
       "0.7029604308888561"
      ]
     },
     "execution_count": 21,
     "metadata": {},
     "output_type": "execute_result"
    }
   ],
   "source": [
    "OMF.score(y_train)"
   ]
  },
  {
   "cell_type": "code",
   "execution_count": 23,
   "metadata": {},
   "outputs": [
    {
     "data": {
      "text/plain": [
       "0.7029604308888561"
      ]
     },
     "execution_count": 23,
     "metadata": {},
     "output_type": "execute_result"
    }
   ],
   "source": [
    "OMF.RMSE"
   ]
  },
  {
   "cell_type": "code",
   "execution_count": 24,
   "metadata": {},
   "outputs": [],
   "source": [
    "prediction = OMF.prediction"
   ]
  },
  {
   "cell_type": "code",
   "execution_count": 25,
   "metadata": {},
   "outputs": [
    {
     "data": {
      "text/plain": [
       "0.011156225012824095"
      ]
     },
     "execution_count": 25,
     "metadata": {},
     "output_type": "execute_result"
    }
   ],
   "source": [
    "np.mean(prediction) - np.mean(y_train)"
   ]
  },
  {
   "cell_type": "code",
   "execution_count": 26,
   "metadata": {},
   "outputs": [
    {
     "data": {
      "text/plain": [
       "0.17401185317170542"
      ]
     },
     "execution_count": 26,
     "metadata": {},
     "output_type": "execute_result"
    }
   ],
   "source": [
    "np.min(prediction)"
   ]
  },
  {
   "cell_type": "code",
   "execution_count": 27,
   "metadata": {},
   "outputs": [
    {
     "data": {
      "text/plain": [
       "5.993233780331224"
      ]
     },
     "execution_count": 27,
     "metadata": {},
     "output_type": "execute_result"
    }
   ],
   "source": [
    "np.max(prediction)"
   ]
  },
  {
   "cell_type": "code",
   "execution_count": null,
   "metadata": {},
   "outputs": [],
   "source": []
  }
 ],
 "metadata": {
  "kernelspec": {
   "display_name": "Python 3",
   "language": "python",
   "name": "python3"
  },
  "language_info": {
   "codemirror_mode": {
    "name": "ipython",
    "version": 3
   },
   "file_extension": ".py",
   "mimetype": "text/x-python",
   "name": "python",
   "nbconvert_exporter": "python",
   "pygments_lexer": "ipython3",
   "version": "3.6.6"
  }
 },
 "nbformat": 4,
 "nbformat_minor": 2
}
