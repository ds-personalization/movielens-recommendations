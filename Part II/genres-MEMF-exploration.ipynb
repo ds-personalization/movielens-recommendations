{
 "cells": [
  {
   "cell_type": "markdown",
   "metadata": {},
   "source": [
    "In this notebook we explore the MEMF-genres model defined in Report.ipynb"
   ]
  },
  {
   "cell_type": "markdown",
   "metadata": {},
   "source": [
    "### Preprocessing\n",
    "\n",
    "Let us first load the data and carry out a few preprocessing steps"
   ]
  },
  {
   "cell_type": "code",
   "execution_count": 1,
   "metadata": {},
   "outputs": [],
   "source": [
    "from lib import MEMF\n",
    "from lib import MF\n",
    "from lib import utils\n",
    "from lib import preprocessing as prepro\n",
    "from lib import metrics"
   ]
  },
  {
   "cell_type": "code",
   "execution_count": 2,
   "metadata": {},
   "outputs": [],
   "source": [
    "import pandas as pd\n",
    "import numpy as np\n",
    "from sklearn.model_selection import train_test_split\n",
    "import math\n",
    "from tqdm import tqdm"
   ]
  },
  {
   "cell_type": "code",
   "execution_count": 3,
   "metadata": {},
   "outputs": [],
   "source": [
    "ratings = pd.read_csv('../ml-latest/ratings_small.csv')"
   ]
  },
  {
   "cell_type": "code",
   "execution_count": 4,
   "metadata": {},
   "outputs": [
    {
     "data": {
      "text/html": [
       "<div>\n",
       "<style scoped>\n",
       "    .dataframe tbody tr th:only-of-type {\n",
       "        vertical-align: middle;\n",
       "    }\n",
       "\n",
       "    .dataframe tbody tr th {\n",
       "        vertical-align: top;\n",
       "    }\n",
       "\n",
       "    .dataframe thead th {\n",
       "        text-align: right;\n",
       "    }\n",
       "</style>\n",
       "<table border=\"1\" class=\"dataframe\">\n",
       "  <thead>\n",
       "    <tr style=\"text-align: right;\">\n",
       "      <th></th>\n",
       "      <th>user</th>\n",
       "      <th>item</th>\n",
       "      <th>rating</th>\n",
       "    </tr>\n",
       "  </thead>\n",
       "  <tbody>\n",
       "    <tr>\n",
       "      <th>0</th>\n",
       "      <td>18</td>\n",
       "      <td>6</td>\n",
       "      <td>3.0</td>\n",
       "    </tr>\n",
       "    <tr>\n",
       "      <th>1</th>\n",
       "      <td>18</td>\n",
       "      <td>21</td>\n",
       "      <td>3.0</td>\n",
       "    </tr>\n",
       "    <tr>\n",
       "      <th>2</th>\n",
       "      <td>18</td>\n",
       "      <td>161</td>\n",
       "      <td>4.0</td>\n",
       "    </tr>\n",
       "    <tr>\n",
       "      <th>3</th>\n",
       "      <td>18</td>\n",
       "      <td>216</td>\n",
       "      <td>3.0</td>\n",
       "    </tr>\n",
       "    <tr>\n",
       "      <th>4</th>\n",
       "      <td>18</td>\n",
       "      <td>230</td>\n",
       "      <td>4.0</td>\n",
       "    </tr>\n",
       "  </tbody>\n",
       "</table>\n",
       "</div>"
      ],
      "text/plain": [
       "   user  item  rating\n",
       "0    18     6     3.0\n",
       "1    18    21     3.0\n",
       "2    18   161     4.0\n",
       "3    18   216     3.0\n",
       "4    18   230     4.0"
      ]
     },
     "execution_count": 4,
     "metadata": {},
     "output_type": "execute_result"
    }
   ],
   "source": [
    "ratings.head()"
   ]
  },
  {
   "cell_type": "code",
   "execution_count": 5,
   "metadata": {},
   "outputs": [],
   "source": [
    "hashed_ratings = utils.hash_data(ratings)"
   ]
  },
  {
   "cell_type": "code",
   "execution_count": 6,
   "metadata": {},
   "outputs": [],
   "source": [
    "t, reduced_ratings = prepro.separate_elements_with_few_ratings(1, hashed_ratings, element=\"item\")"
   ]
  },
  {
   "cell_type": "code",
   "execution_count": 7,
   "metadata": {},
   "outputs": [],
   "source": [
    "X_train, X_test,_,_ = train_test_split(reduced_ratings, \n",
    "                                       reduced_ratings['item'], \n",
    "                                       test_size = 0.15, \n",
    "                                       stratify = reduced_ratings['item'],\n",
    "                                       random_state = 596)"
   ]
  },
  {
   "cell_type": "code",
   "execution_count": 8,
   "metadata": {},
   "outputs": [],
   "source": [
    "X_train = pd.concat([t, X_train])"
   ]
  },
  {
   "cell_type": "code",
   "execution_count": 9,
   "metadata": {},
   "outputs": [
    {
     "data": {
      "text/html": [
       "<div>\n",
       "<style scoped>\n",
       "    .dataframe tbody tr th:only-of-type {\n",
       "        vertical-align: middle;\n",
       "    }\n",
       "\n",
       "    .dataframe tbody tr th {\n",
       "        vertical-align: top;\n",
       "    }\n",
       "\n",
       "    .dataframe thead th {\n",
       "        text-align: right;\n",
       "    }\n",
       "</style>\n",
       "<table border=\"1\" class=\"dataframe\">\n",
       "  <thead>\n",
       "    <tr style=\"text-align: right;\">\n",
       "      <th></th>\n",
       "      <th>old_user</th>\n",
       "      <th>old_item</th>\n",
       "      <th>user</th>\n",
       "      <th>item</th>\n",
       "      <th>rating</th>\n",
       "    </tr>\n",
       "  </thead>\n",
       "  <tbody>\n",
       "    <tr>\n",
       "      <th>2212</th>\n",
       "      <td>7026</td>\n",
       "      <td>590</td>\n",
       "      <td>254</td>\n",
       "      <td>24</td>\n",
       "      <td>4.0</td>\n",
       "    </tr>\n",
       "    <tr>\n",
       "      <th>2213</th>\n",
       "      <td>7026</td>\n",
       "      <td>592</td>\n",
       "      <td>254</td>\n",
       "      <td>25</td>\n",
       "      <td>3.0</td>\n",
       "    </tr>\n",
       "    <tr>\n",
       "      <th>2211</th>\n",
       "      <td>7026</td>\n",
       "      <td>161</td>\n",
       "      <td>254</td>\n",
       "      <td>6</td>\n",
       "      <td>5.0</td>\n",
       "    </tr>\n",
       "  </tbody>\n",
       "</table>\n",
       "</div>"
      ],
      "text/plain": [
       "      old_user  old_item  user  item  rating\n",
       "2212      7026       590   254    24     4.0\n",
       "2213      7026       592   254    25     3.0\n",
       "2211      7026       161   254     6     5.0"
      ]
     },
     "execution_count": 9,
     "metadata": {},
     "output_type": "execute_result"
    }
   ],
   "source": [
    "X_test[-X_test['user'].isin(X_train['user'].unique())]"
   ]
  },
  {
   "cell_type": "code",
   "execution_count": 10,
   "metadata": {},
   "outputs": [],
   "source": [
    "X_train = pd.concat([pd.DataFrame({'old_user' : [7026], 'old_item' : [590],\n",
    "                                   'user': [254], 'item' : [24], \n",
    "                                   'rating' : [4.0]}), X_train], \n",
    "                    ignore_index = True)\n",
    "X_test = X_test[-(np.logical_and(X_test['user'] == 254, X_test['item'] == 24))]"
   ]
  },
  {
   "cell_type": "code",
   "execution_count": 11,
   "metadata": {},
   "outputs": [],
   "source": [
    "y_train = X_train['rating']\n",
    "y_test = X_test['rating']\n",
    "X_train = X_train.drop('rating', axis = 1)\n",
    "X_test = X_test.drop('rating', axis = 1)"
   ]
  },
  {
   "cell_type": "markdown",
   "metadata": {},
   "source": [
    "### MEMF-genres\n",
    "\n",
    "Now let's use the MEMF-genres class.\n",
    "In this setting, the clusters are the different genres movies can be assigned to. Each movie can be assigned to multiple genres, therefore to multiple clusters."
   ]
  },
  {
   "cell_type": "code",
   "execution_count": 13,
   "metadata": {},
   "outputs": [],
   "source": [
    "# getting the movie descriptor file\n",
    "movie_file = \"../ml-latest/clean_movies.csv\""
   ]
  },
  {
   "cell_type": "code",
   "execution_count": 14,
   "metadata": {},
   "outputs": [],
   "source": [
    "# Initializing the MEMF-genre model with our movie descriptor \n",
    "base = MEMF.MEMF_genres(genre_file=movie_file)"
   ]
  },
  {
   "cell_type": "code",
   "execution_count": 15,
   "metadata": {},
   "outputs": [
    {
     "data": {
      "text/plain": [
       "58020"
      ]
     },
     "execution_count": 15,
     "metadata": {},
     "output_type": "execute_result"
    }
   ],
   "source": [
    "# number of items  \n",
    "base.unique_items"
   ]
  },
  {
   "cell_type": "code",
   "execution_count": 16,
   "metadata": {},
   "outputs": [
    {
     "data": {
      "text/plain": [
       "106107"
      ]
     },
     "execution_count": 16,
     "metadata": {},
     "output_type": "execute_result"
    }
   ],
   "source": [
    "base.data.movieId.size"
   ]
  },
  {
   "cell_type": "code",
   "execution_count": 17,
   "metadata": {
    "scrolled": true
   },
   "outputs": [
    {
     "name": "stdout",
     "output_type": "stream",
     "text": [
      "Number of Clusters: 20\n"
     ]
    }
   ],
   "source": [
    "# defining the clusters, here only reading the movie descriptor file\n",
    "base.define_clusters()"
   ]
  },
  {
   "cell_type": "code",
   "execution_count": 18,
   "metadata": {
    "scrolled": true
   },
   "outputs": [
    {
     "name": "stderr",
     "output_type": "stream",
     "text": [
      "100%|██████████| 58098/58098 [00:58<00:00, 986.46it/s] \n"
     ]
    }
   ],
   "source": [
    "# each movie is linked to a set of genres, i.e. a set of clusters\n",
    "base.compute_membership()"
   ]
  },
  {
   "cell_type": "code",
   "execution_count": 29,
   "metadata": {},
   "outputs": [
    {
     "name": "stdout",
     "output_type": "stream",
     "text": [
      "Adventure matrix factorization is over.\n",
      "Animation matrix factorization is over.\n",
      "Children matrix factorization is over.\n",
      "Comedy matrix factorization is over.\n",
      "Fantasy matrix factorization is over.\n",
      "Romance matrix factorization is over.\n",
      "Drama matrix factorization is over.\n",
      "Action matrix factorization is over.\n",
      "Crime matrix factorization is over.\n",
      "Thriller matrix factorization is over.\n",
      "Horror matrix factorization is over.\n",
      "Mystery matrix factorization is over.\n",
      "Sci-Fi matrix factorization is over.\n",
      "IMAX matrix factorization is over.\n",
      "Documentary matrix factorization is over.\n",
      "War matrix factorization is over.\n",
      "Musical matrix factorization is over.\n",
      "Western matrix factorization is over.\n",
      "Film-Noir matrix factorization is over.\n",
      "(no genres listed) matrix factorization is over.\n"
     ]
    }
   ],
   "source": [
    "# As explained, each cluster is its own MF problem\n",
    "# We have 20 of those in that case\n",
    "base.fit(X_train, y_train.values)"
   ]
  },
  {
   "cell_type": "code",
   "execution_count": 30,
   "metadata": {},
   "outputs": [
    {
     "name": "stderr",
     "output_type": "stream",
     "text": [
      "100%|██████████| 13325/13325 [01:00<00:00, 219.36it/s]\n"
     ]
    }
   ],
   "source": [
    "y_pred = base.predict(X_test)"
   ]
  },
  {
   "cell_type": "code",
   "execution_count": 31,
   "metadata": {},
   "outputs": [
    {
     "name": "stderr",
     "output_type": "stream",
     "text": [
      "100%|██████████| 13325/13325 [00:59<00:00, 224.84it/s]\n"
     ]
    }
   ],
   "source": [
    "scores = base.score(X_test, y_test)"
   ]
  },
  {
   "cell_type": "code",
   "execution_count": 32,
   "metadata": {},
   "outputs": [
    {
     "name": "stdout",
     "output_type": "stream",
     "text": [
      "{'RMSE': 0.9479060358071487, 'bias': -0.052623715989096216, 'standard deviation': 0.9464441860115801}\n"
     ]
    }
   ],
   "source": [
    "print(scores)"
   ]
  },
  {
   "cell_type": "markdown",
   "metadata": {},
   "source": [
    "The RMSE evaluates at 0.9479 and is mainly due to standard deviation. The bias counts for almost nothing."
   ]
  },
  {
   "cell_type": "markdown",
   "metadata": {},
   "source": [
    "Now if we want to evaluate the diversity of our model, we can use the Chi-Sqaure statistic as it is defined in `Report.ipynb`"
   ]
  },
  {
   "cell_type": "code",
   "execution_count": 41,
   "metadata": {},
   "outputs": [
    {
     "name": "stderr",
     "output_type": "stream",
     "text": [
      "100%|██████████| 467/467 [00:01<00:00, 283.29it/s]\n",
      "100%|██████████| 467/467 [00:01<00:00, 291.05it/s]\n",
      "100%|██████████| 467/467 [00:01<00:00, 303.93it/s]\n",
      "100%|██████████| 467/467 [00:01<00:00, 305.14it/s]\n",
      "100%|██████████| 467/467 [00:01<00:00, 295.77it/s]\n",
      "100%|██████████| 467/467 [00:01<00:00, 293.17it/s]\n"
     ]
    }
   ],
   "source": [
    "diversity = metrics.compute_diversity(base, X_test)"
   ]
  },
  {
   "cell_type": "code",
   "execution_count": 42,
   "metadata": {},
   "outputs": [
    {
     "name": "stdout",
     "output_type": "stream",
     "text": [
      "151456.4602480644\n"
     ]
    }
   ],
   "source": [
    "print(diversity)"
   ]
  },
  {
   "cell_type": "markdown",
   "metadata": {},
   "source": [
    "This value will have to be compared with other models: we will treat this metric only in relative terms."
   ]
  },
  {
   "cell_type": "markdown",
   "metadata": {},
   "source": [
    "### Normalized Discounted Cumulative Gain\n"
   ]
  },
  {
   "cell_type": "markdown",
   "metadata": {},
   "source": [
    "Now we also want to compute the NDCG for our model to get a better idea of its performance. "
   ]
  },
  {
   "cell_type": "code",
   "execution_count": 35,
   "metadata": {},
   "outputs": [],
   "source": [
    "##### with the in-class function\n",
    "NDCG = metrics.NDCG()"
   ]
  },
  {
   "cell_type": "code",
   "execution_count": 36,
   "metadata": {},
   "outputs": [
    {
     "name": "stderr",
     "output_type": "stream",
     "text": [
      "100%|██████████| 10000/10000 [00:06<00:00, 1632.02it/s]\n"
     ]
    }
   ],
   "source": [
    "NDCG.create_ranking(X_train, X_test, y_train, y_test)"
   ]
  },
  {
   "cell_type": "code",
   "execution_count": 37,
   "metadata": {},
   "outputs": [
    {
     "data": {
      "text/plain": [
       "{6: 1, 24: 2, 25: 3}"
      ]
     },
     "execution_count": 37,
     "metadata": {},
     "output_type": "execute_result"
    }
   ],
   "source": [
    "NDCG.dico_ranking_[254]"
   ]
  },
  {
   "cell_type": "code",
   "execution_count": 38,
   "metadata": {},
   "outputs": [
    {
     "name": "stderr",
     "output_type": "stream",
     "text": [
      "100%|██████████| 10000/10000 [00:06<00:00, 1575.76it/s]\n",
      "100%|██████████| 10000/10000 [00:06<00:00, 1583.01it/s]\n"
     ]
    },
    {
     "data": {
      "text/plain": [
       "0.9544001902587957"
      ]
     },
     "execution_count": 38,
     "metadata": {},
     "output_type": "execute_result"
    }
   ],
   "source": [
    "NDCG.NDCG(X_train, X_test, y_train, y_test, y_pred)"
   ]
  }
 ],
 "metadata": {
  "kernelspec": {
   "display_name": "Python 3",
   "language": "python",
   "name": "python3"
  },
  "language_info": {
   "codemirror_mode": {
    "name": "ipython",
    "version": 3
   },
   "file_extension": ".py",
   "mimetype": "text/x-python",
   "name": "python",
   "nbconvert_exporter": "python",
   "pygments_lexer": "ipython3",
   "version": "3.6.5"
  }
 },
 "nbformat": 4,
 "nbformat_minor": 2
}
